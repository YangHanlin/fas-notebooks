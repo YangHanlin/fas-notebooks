{
 "cells": [
  {
   "cell_type": "markdown",
   "metadata": {},
   "source": [
    "# Linear Regression with One Variable\n",
    "\n",
    "For original packed homework instructions, refer to the file `machine-learning-ex1.zip`."
   ]
  },
  {
   "cell_type": "markdown",
   "metadata": {},
   "source": [
    "## Problem Desciption\n",
    "\n",
    "In this part of this exercise, you will implement linear regression with one variable to predict profits for a food truck. Suppose you are the CEO of a restaurant franchise and are considering different cities for opening a new outlet. The chain already has trucks in various cities and you have data for profits and populations from the cities.\n",
    "\n",
    "You would like to use this data to help you select which city to expand to next. The file `ex1data1.txt` contains the dataset for our linear regression problem. The first column is the population of a city and the second column is the profit of a food truck in that city. A negative value for profit indicates a loss."
   ]
  },
  {
   "cell_type": "markdown",
   "metadata": {},
   "source": [
    "## Preparation"
   ]
  },
  {
   "cell_type": "code",
   "execution_count": 2,
   "metadata": {},
   "outputs": [],
   "source": [
    "# Import the libraries required\n",
    "\n",
    "import numpy as np\n",
    "import matplotlib.pyplot as plt"
   ]
  },
  {
   "cell_type": "code",
   "execution_count": 3,
   "metadata": {},
   "outputs": [],
   "source": [
    "# Define the function for reading & parsing data\n",
    "\n",
    "def read_data_from(file, seperator=','):\n",
    "    \"\"\"Read arrays x, y repectively from the given file object.\"\"\"\n",
    "    x = []\n",
    "    y = []\n",
    "    for line in file:\n",
    "        x_addition, y_addition = line.split(seperator)\n",
    "        x.append(float(x_addition))\n",
    "        y.append(float(y_addition))\n",
    "    return np.array(x), np.array(y)"
   ]
  },
  {
   "cell_type": "code",
   "execution_count": 4,
   "metadata": {},
   "outputs": [],
   "source": [
    "# Define the functions for plotting specified functions\n",
    "\n",
    "def _plot_function(ax, x, f=None, **kwargs):\n",
    "    \"\"\"Plot the specified function f (a Callable) with the definition domain as x (an array-like) on the specified Axes (ax).\"\"\"\n",
    "    if f is None:\n",
    "        return ax.plot(x, **kwargs)\n",
    "    else:\n",
    "        return ax.plot(x, np.array([f(i) for i in x]), **kwargs)\n",
    "\n",
    "def plot_function(ax, xmin, xmax, f=None, n=10000, **kwargs):\n",
    "    \"\"\"Plot the specified function f (a Callable) with the max & min values of x on the specified Axes (ax).\"\"\"\n",
    "    if xmax < xmin:\n",
    "        xmin, xmax = xmax, xmin\n",
    "    return _plot_function(ax, np.linspace(xmin, xmax, n), f, **kwargs)"
   ]
  },
  {
   "cell_type": "code",
   "execution_count": 5,
   "metadata": {},
   "outputs": [],
   "source": [
    "# Define the linear function\n",
    "\n",
    "def _linear(*thetas):\n",
    "    \"\"\"Return a linear function with thetas given; not recognizing theta_0.\"\"\"\n",
    "    def func(*x):\n",
    "        res = 0\n",
    "        for i in range(len(x)):\n",
    "            res += thetas[i] * x[i]\n",
    "        return res\n",
    "    return func\n",
    "\n",
    "def linear(*thetas):\n",
    "    \"\"\"Return a linear function with thetas given; recognizing theta_0.\"\"\"\n",
    "    _func = _linear(*thetas)\n",
    "    def func(*x):\n",
    "        return _func(1, *x)\n",
    "    return func\n",
    "\n",
    "def linear_derivative(i, *thetas):\n",
    "    \"\"\"Return the partial derivative of the linear function with thetas given, with respect to i-th theta (Not used).\"\"\"\n",
    "    def func(*x):\n",
    "        return thetas[i]\n",
    "    return func"
   ]
  },
  {
   "cell_type": "code",
   "execution_count": 6,
   "metadata": {},
   "outputs": [],
   "source": [
    "# Define the cost function (Mean Squared Error)\n",
    "\n",
    "def _mse(y1, y2):\n",
    "    \"\"\"Calculate the MSE between y1 and y2 (both array-like).\"\"\"\n",
    "    cnt = min(len(y1), len(y2)) # Extra elements are ignored\n",
    "    sm = 0.0\n",
    "    for i in range(cnt):\n",
    "        sm += (y1[i]-y2[i]) * (y1[i]-y2[i])\n",
    "    return sm / cnt\n",
    "\n",
    "def mse(x, f, y):\n",
    "    \"\"\"Calculate the MSE of given set x (array-like) with function f and another given set y (array-like).\"\"\"\n",
    "    y1 = np.empty(len(x))\n",
    "    for i in range(len(x)):\n",
    "        y1[i] = f(x[i])\n",
    "    return _mse(y1, y)\n",
    "\n",
    "# So is it the so-called \"batch gradient descent\" - to change the value only after a batch of examples?\n",
    "def mse_gradient(x, *thetas):\n",
    "    \"\"\"Calculate the gradient of MSE (as a tuple) with the given set of x (array-like) and thetas (Not used).\"\"\"\n",
    "    f = linear(*thetas)\n",
    "    f_derivative = linear_derivative(*thetas)\n",
    "    y = np.empty(len(x))\n",
    "    for i in range(len(x)):\n",
    "        y[i] = f(x[i])\n",
    "    pass # I cannot figure this out!"
   ]
  },
  {
   "cell_type": "code",
   "execution_count": 7,
   "metadata": {},
   "outputs": [],
   "source": [
    "# Plot the costs (losses)\n",
    "\n",
    "def plot_errors(*args, **kwargs):\n",
    "    x = []\n",
    "    y = []\n",
    "    for record in e:\n",
    "        x.append(record[0])\n",
    "        y.append(record[1])\n",
    "    fig, ax = plt.subplots()\n",
    "    ax.plot(x, y, *args, **kwargs)\n",
    "    ax.set(\n",
    "        title='Errors',\n",
    "        xlabel='Time',\n",
    "        ylabel='Error (MSE)'\n",
    "    )\n",
    "    plt.show()"
   ]
  },
  {
   "cell_type": "markdown",
   "metadata": {},
   "source": [
    "## Solution"
   ]
  },
  {
   "cell_type": "markdown",
   "metadata": {},
   "source": [
    "### Data Loading & Visualization"
   ]
  },
  {
   "cell_type": "code",
   "execution_count": 8,
   "metadata": {},
   "outputs": [],
   "source": [
    "# Read arrays x and y from the file\n",
    "\n",
    "with open('ex1data1.txt') as file:\n",
    "    x, y = read_data_from(file)"
   ]
  },
  {
   "cell_type": "code",
   "execution_count": 9,
   "metadata": {},
   "outputs": [
    {
     "name": "stdout",
     "output_type": "stream",
     "text": [
      "x =\n",
      "[ 6.1101  5.5277  8.5186  7.0032  5.8598  8.3829  7.4764  8.5781  6.4862\n",
      "  5.0546  5.7107 14.164   5.734   8.4084  5.6407  5.3794  6.3654  5.1301\n",
      "  6.4296  7.0708  6.1891 20.27    5.4901  6.3261  5.5649 18.945  12.828\n",
      " 10.957  13.176  22.203   5.2524  6.5894  9.2482  5.8918  8.2111  7.9334\n",
      "  8.0959  5.6063 12.836   6.3534  5.4069  6.8825 11.708   5.7737  7.8247\n",
      "  7.0931  5.0702  5.8014 11.7     5.5416  7.5402  5.3077  7.4239  7.6031\n",
      "  6.3328  6.3589  6.2742  5.6397  9.3102  9.4536  8.8254  5.1793 21.279\n",
      " 14.908  18.959   7.2182  8.2951 10.236   5.4994 20.341  10.136   7.3345\n",
      "  6.0062  7.2259  5.0269  6.5479  7.5386  5.0365 10.274   5.1077  5.7292\n",
      "  5.1884  6.3557  9.7687  6.5159  8.5172  9.1802  6.002   5.5204  5.0594\n",
      "  5.7077  7.6366  5.8707  5.3054  8.2934 13.394   5.4369]\n",
      "\n",
      "y =\n",
      "[17.592    9.1302  13.662   11.854    6.8233  11.886    4.3483  12.\n",
      "  6.5987   3.8166   3.2522  15.505    3.1551   7.2258   0.71618  3.5129\n",
      "  5.3048   0.56077  3.6518   5.3893   3.1386  21.767    4.263    5.1875\n",
      "  3.0825  22.638   13.501    7.0467  14.692   24.147   -1.22     5.9966\n",
      " 12.134    1.8495   6.5426   4.5623   4.1164   3.3928  10.117    5.4974\n",
      "  0.55657  3.9115   5.3854   2.4406   6.7318   1.0463   5.1337   1.844\n",
      "  8.0043   1.0179   6.7504   1.8396   4.2885   4.9981   1.4233  -1.4211\n",
      "  2.4756   4.6042   3.9624   5.4141   5.1694  -0.74279 17.929   12.054\n",
      " 17.054    4.8852   5.7442   7.7754   1.0173  20.992    6.6799   4.0259\n",
      "  1.2784   3.3411  -2.6807   0.29678  3.8845   5.7014   6.7526   2.0576\n",
      "  0.47953  0.20421  0.67861  7.5435   5.3436   4.2415   6.7981   0.92695\n",
      "  0.152    2.8214   1.8451   4.2959   7.2029   1.9869   0.14454  9.0551\n",
      "  0.61705]\n"
     ]
    }
   ],
   "source": [
    "# Display the data being read\n",
    "\n",
    "print('x =')\n",
    "print(x)\n",
    "print()\n",
    "print('y =')\n",
    "print(y)"
   ]
  },
  {
   "cell_type": "code",
   "execution_count": 10,
   "metadata": {},
   "outputs": [
    {
     "data": {
      "image/png": "[encoded data removed]",
      "text/plain": [
       "<Figure size 432x288 with 1 Axes>"
      ]
     },
     "metadata": {
      "needs_background": "light"
     },
     "output_type": "display_data"
    }
   ],
   "source": [
    "# Visualize the data with scatter plot\n",
    "\n",
    "plt.plot(x, y, '.')\n",
    "plt.title('Population & Profit')\n",
    "plt.xlabel('Population')\n",
    "plt.ylabel('Profit')\n",
    "\n",
    "plt.show()"
   ]
  },
  {
   "cell_type": "code",
   "execution_count": 11,
   "metadata": {},
   "outputs": [
    {
     "data": {
      "image/png": "[encoded data removed]",
      "text/plain": [
       "<Figure size 432x288 with 1 Axes>"
      ]
     },
     "metadata": {
      "needs_background": "light"
     },
     "output_type": "display_data"
    }
   ],
   "source": [
    "# Another visualization method (recommended)\n",
    "\n",
    "fig, ax = plt.subplots()\n",
    "\n",
    "ax.plot(x, y, '.')\n",
    "ax.set(\n",
    "    title='Population & Profit',\n",
    "    xlabel='Population',\n",
    "    ylabel='Profit'\n",
    ")\n",
    "\n",
    "plt.show()"
   ]
  },
  {
   "cell_type": "code",
   "execution_count": 12,
   "metadata": {},
   "outputs": [],
   "source": [
    "# Define the function for one-call visualization of data and function\n",
    "\n",
    "def visualize(f=None):\n",
    "    fig, ax = plt.subplots()\n",
    "    ax.plot(x, y, '.')\n",
    "    ax.set(\n",
    "        title='Population & Profit',\n",
    "        xlabel='Population',\n",
    "        ylabel='Profit'\n",
    "    )\n",
    "    if f is not None:\n",
    "        plot_function(ax, np.min(x), np.max(x), f)\n",
    "    plt.show()"
   ]
  },
  {
   "cell_type": "markdown",
   "metadata": {},
   "source": [
    "### Gradient Descent"
   ]
  },
  {
   "cell_type": "code",
   "execution_count": 13,
   "metadata": {},
   "outputs": [
    {
     "data": {
      "image/png": "[encoded data removed]",
      "text/plain": [
       "<Figure size 432x288 with 1 Axes>"
      ]
     },
     "metadata": {
      "needs_background": "light"
     },
     "output_type": "display_data"
    }
   ],
   "source": [
    "# Visualization of raw data\n",
    "\n",
    "visualize()"
   ]
  },
  {
   "cell_type": "code",
   "execution_count": 14,
   "metadata": {},
   "outputs": [],
   "source": [
    "# Some settings\n",
    "\n",
    "alpha = 0.01           # learning rate\n",
    "\n",
    "def init_parameters():\n",
    "    return 0, 0"
   ]
  },
  {
   "cell_type": "code",
   "execution_count": 18,
   "metadata": {},
   "outputs": [
    {
     "name": "stdout",
     "output_type": "stream",
     "text": [
      "Epoch 0: b = 0, k = 0, error = 64.14546775491131\n",
      "Epoch 100: b = -0.5765562303322348, k = 0.8595815252727688, error = 10.959951161070222\n",
      "Epoch 200: b = -1.1245018112987775, k = 0.9146286023471152, error = 10.352305925783936\n",
      "Epoch 300: b = -1.581991219049229, k = 0.9605883756602133, error = 9.92872409236949\n",
      "Epoch 400: b = -1.9639571760237742, k = 0.9989609991537096, error = 9.633450536057955\n",
      "Epoch 500: b = -2.2828672749589267, k = 1.0309989777517024, error = 9.42761906223373\n",
      "Epoch 600: b = -2.549130928422701, k = 1.057748049855657, error = 9.284136536585713\n",
      "Epoch 700: b = -2.7714391381426187, k = 1.0800813208588218, error = 9.184116676727372\n",
      "Epoch 800: b = -2.957048174396602, k = 1.09872776181806, error = 9.11439409329151\n",
      "Epoch 900: b = -3.1120164249283144, k = 1.114296003496455, error = 9.06579135931592\n",
      "Epoch 1000: b = -3.241402144274422, k = 1.1272942024281842, error = 9.031911006157824\n",
      "Epoch 1100: b = -3.349428558157724, k = 1.1381466274456649, error = 9.008293439074167\n",
      "Epoch 1200: b = -3.4396217120503048, k = 1.1472075080629436, error = 8.991829930788178\n",
      "Epoch 1300: b = -3.51492556336466, k = 1.1547725967346771, error = 8.980353426704458\n",
      "Epoch 1400: b = -3.5777980739493107, k = 1.1610888223896154, error = 8.972353300382927\n",
      "Epoch 1500: b = -3.63029143940436, k = 1.166362350335582, error = 8.966776513175452\n",
      "Epoch 1600: b = -3.67411907394883, k = 1.1707653116159706, error = 8.962889005115281\n",
      "Epoch 1700: b = -3.7107115372651402, k = 1.1744414214679015, error = 8.96017907225327\n",
      "Epoch 1800: b = -3.7412632288057135, k = 1.1775106702718046, error = 8.958290012217153\n",
      "Epoch 1900: b = -3.766771373691227, k = 1.180073240107772, error = 8.956973172279865\n",
      "Epoch 2000: b = -3.7880685727231103, k = 1.182212774757377, error = 8.95605521975994\n",
      "Epoch 2100: b = -3.8058499789617604, k = 1.1839991098857352, error = 8.955415326630206\n",
      "Epoch 2200: b = -3.820695987929919, k = 1.185490552518551, error = 8.954969265196087\n",
      "Epoch 2300: b = -3.8330911820627356, k = 1.1867357842176134, error = 8.954658321393518\n",
      "Epoch 2400: b = -3.8434401477625255, k = 1.1877754500755098, error = 8.954441566388562\n",
      "Epoch 2500: b = -3.8520806813360893, k = 1.1886434853952736, error = 8.954290469207075\n",
      "Epoch 2600: b = -3.8592948148641772, k = 1.189368223358567, error = 8.954185141266612\n",
      "Epoch 2700: b = -3.8653180218939256, k = 1.1899733198373386, error = 8.954111718487107\n",
      "Epoch 2800: b = -3.8703469034334694, k = 1.190478525535351, error = 8.9540605363931\n",
      "Epoch 2900: b = -3.8745456051240916, k = 1.190900330662729, error = 8.954024858000581\n",
      "Epoch 3000: b = -3.8780511750501696, k = 1.1912525031860843, error = 8.953999987042922\n",
      "Epoch 3100: b = -3.8809780370689846, k = 1.1915465382230153, error = 8.953982649811866\n",
      "Epoch 3200: b = -3.883421725672502, k = 1.1917920332494853, error = 8.953970564246648\n",
      "Epoch 3300: b = -3.8854620042891805, k = 1.1919970013670627, error = 8.953962139551502\n",
      "Epoch 3400: b = -3.8871654688090413, k = 1.1921681328552531, error = 8.95395626680271\n",
      "Epoch 3500: b = -3.8885877213125464, k = 1.1923110135461448, error = 8.95395217298356\n",
      "Epoch 3600: b = -3.8897751849551083, k = 1.1924303071492428, error = 8.953949319233846\n",
      "Epoch 3700: b = -3.890766619246089, k = 1.1925299074776796, error = 8.953947329920885\n",
      "Epoch 3800: b = -3.8915943851819024, k = 1.192613065544559, error = 8.953945943195896\n",
      "Epoch 3900: b = -3.892285501527915, k = 1.1926824956779294, error = 8.953944976527392\n",
      "Epoch 4000: b = -3.892862526726777, k = 1.1927404641180426, error = 8.95394430267496\n"
     ]
    },
    {
     "data": {
      "image/png": "[encoded data removed]",
      "text/plain": [
       "<Figure size 432x288 with 1 Axes>"
      ]
     },
     "metadata": {
      "needs_background": "light"
     },
     "output_type": "display_data"
    },
    {
     "data": {
      "image/png": "[encoded data removed]",
      "text/plain": [
       "<Figure size 432x288 with 1 Axes>"
      ]
     },
     "metadata": {
      "needs_background": "light"
     },
     "output_type": "display_data"
    }
   ],
   "source": [
    "# Core part of gradient descent\n",
    "# Performed manually; needs enhancement\n",
    "\n",
    "b, k = init_parameters()\n",
    "\n",
    "e = []                 # recorded errors\n",
    "\n",
    "iteration_count = 4000 # number of iterations\n",
    "interval = 100         # intervals between which to give a message\n",
    "m = len(x)             # training set volume\n",
    "\n",
    "current_error = mse(x, linear(b, k), y)\n",
    "print('Epoch 0: b = {}, k = {}, error = {}'.format(b, k, current_error))\n",
    "e.append((0, current_error))\n",
    "\n",
    "for i in range(1, iteration_count+1):\n",
    "    f = linear(b, k)\n",
    "    b_offset, k_offset = 0, 0\n",
    "    for j in range(m):\n",
    "        term = f(x[j]) - y[j]\n",
    "        b_offset += term\n",
    "        k_offset += term * x[j]\n",
    "    b_offset = b_offset * alpha / m\n",
    "    k_offset = k_offset * alpha / m\n",
    "    b -= b_offset\n",
    "    k -= k_offset\n",
    "    current_error = mse(x, linear(b, k), y)\n",
    "    if i % interval == 0:\n",
    "        print('Epoch {}: b = {}, k = {}, error = {}'.format(i, b, k, current_error))\n",
    "    e.append((i, current_error))\n",
    "    \n",
    "plot_errors()\n",
    "visualize(linear(b, k))"
   ]
  },
  {
   "cell_type": "code",
   "execution_count": 16,
   "metadata": {},
   "outputs": [
    {
     "name": "stdout",
     "output_type": "stream",
     "text": [
      "Epoch 0: b = 0, k = 0, error = 64.14546775491131\n",
      "Epoch 100: b = -0.5765562303322348, k = 0.8595815252727688, error = 10.959951161070222\n",
      "Epoch 200: b = -1.1245018112987775, k = 0.9146286023471152, error = 10.352305925783936\n",
      "Epoch 300: b = -1.581991219049229, k = 0.9605883756602133, error = 9.92872409236949\n",
      "Epoch 400: b = -1.9639571760237742, k = 0.9989609991537096, error = 9.633450536057955\n",
      "Epoch 500: b = -2.2828672749589267, k = 1.0309989777517024, error = 9.42761906223373\n",
      "Epoch 600: b = -2.549130928422701, k = 1.057748049855657, error = 9.284136536585713\n",
      "Epoch 700: b = -2.7714391381426187, k = 1.0800813208588218, error = 9.184116676727372\n",
      "Epoch 800: b = -2.957048174396602, k = 1.09872776181806, error = 9.11439409329151\n",
      "Epoch 900: b = -3.1120164249283144, k = 1.114296003496455, error = 9.06579135931592\n",
      "Epoch 1000: b = -3.241402144274422, k = 1.1272942024281842, error = 9.031911006157824\n",
      "Epoch 1100: b = -3.349428558157724, k = 1.1381466274456649, error = 9.008293439074167\n",
      "Epoch 1200: b = -3.4396217120503048, k = 1.1472075080629436, error = 8.991829930788178\n",
      "Epoch 1300: b = -3.51492556336466, k = 1.1547725967346771, error = 8.980353426704458\n",
      "Epoch 1400: b = -3.5777980739493107, k = 1.1610888223896154, error = 8.972353300382927\n",
      "Epoch 1500: b = -3.63029143940436, k = 1.166362350335582, error = 8.966776513175452\n",
      "Epoch 1600: b = -3.67411907394883, k = 1.1707653116159706, error = 8.962889005115281\n",
      "Epoch 1700: b = -3.7107115372651402, k = 1.1744414214679015, error = 8.96017907225327\n",
      "Epoch 1800: b = -3.7412632288057135, k = 1.1775106702718046, error = 8.958290012217153\n",
      "Epoch 1900: b = -3.766771373691227, k = 1.180073240107772, error = 8.956973172279865\n",
      "Epoch 2000: b = -3.7880685727231103, k = 1.182212774757377, error = 8.95605521975994\n",
      "Epoch 2100: b = -3.8058499789617604, k = 1.1839991098857352, error = 8.955415326630206\n",
      "Epoch 2200: b = -3.820695987929919, k = 1.185490552518551, error = 8.954969265196087\n",
      "Epoch 2300: b = -3.8330911820627356, k = 1.1867357842176134, error = 8.954658321393518\n",
      "Epoch 2400: b = -3.8434401477625255, k = 1.1877754500755098, error = 8.954441566388562\n",
      "Epoch 2500: b = -3.8520806813360893, k = 1.1886434853952736, error = 8.954290469207075\n",
      "Epoch 2600: b = -3.8592948148641772, k = 1.189368223358567, error = 8.954185141266612\n",
      "Epoch 2700: b = -3.8653180218939256, k = 1.1899733198373386, error = 8.954111718487107\n",
      "Epoch 2800: b = -3.8703469034334694, k = 1.190478525535351, error = 8.9540605363931\n",
      "Epoch 2900: b = -3.8745456051240916, k = 1.190900330662729, error = 8.954024858000581\n",
      "Epoch 3000: b = -3.8780511750501696, k = 1.1912525031860843, error = 8.953999987042922\n",
      "Epoch 3100: b = -3.8809780370689846, k = 1.1915465382230153, error = 8.953982649811866\n",
      "Epoch 3200: b = -3.883421725672502, k = 1.1917920332494853, error = 8.953970564246648\n",
      "Epoch 3300: b = -3.8854620042891805, k = 1.1919970013670627, error = 8.953962139551502\n",
      "Epoch 3400: b = -3.8871654688090413, k = 1.1921681328552531, error = 8.95395626680271\n",
      "Epoch 3500: b = -3.8885877213125464, k = 1.1923110135461448, error = 8.95395217298356\n",
      "Epoch 3600: b = -3.8897751849551083, k = 1.1924303071492428, error = 8.953949319233846\n",
      "Epoch 3700: b = -3.890766619246089, k = 1.1925299074776796, error = 8.953947329920885\n",
      "Epoch 3800: b = -3.8915943851819024, k = 1.192613065544559, error = 8.953945943195896\n",
      "Epoch 3900: b = -3.892285501527915, k = 1.1926824956779294, error = 8.953944976527392\n",
      "Epoch 4000: b = -3.892862526726777, k = 1.1927404641180426, error = 8.95394430267496\n",
      "Epoch 4100: b = -3.8933442952192254, k = 1.1927888629887646, error = 8.953943832940933\n",
      "Epoch 4200: b = -3.893746532211253, k = 1.1928292720576052, error = 8.95394350549526\n",
      "Epoch 4300: b = -3.894082366954062, k = 1.192863010300259, error = 8.953943277237013\n",
      "Epoch 4400: b = -3.8943627612905205, k = 1.1928911789527428, error = 8.953943118121062\n",
      "Epoch 4500: b = -3.894596867456128, k = 1.1929146974563851, error = 8.953943007203339\n",
      "Epoch 4600: b = -3.8947923268133646, k = 1.1929343334689317, error = 8.953942929883992\n",
      "Epoch 4700: b = -3.8949555192702197, k = 1.1929507279213418, error = 8.953942875985659\n",
      "Epoch 4800: b = -3.895091771524147, k = 1.1929644159381523, error = 8.953942838413797\n",
      "Epoch 4900: b = -3.895205530928582, k = 1.1929758443042553, error = 8.953942812222932\n",
      "Epoch 5000: b = -3.895300510657168, k = 1.1929853860482198, error = 8.95394279396562\n",
      "Epoch 5100: b = -3.895379810903924, k = 1.1929933526181618, error = 8.953942781238661\n",
      "Epoch 5116: b = -3.895391223225629, k = 1.1929944991096644, error = 8.953942779595586\n"
     ]
    },
    {
     "data": {
      "image/png": "[encoded data removed]",
      "text/plain": [
       "<Figure size 432x288 with 1 Axes>"
      ]
     },
     "metadata": {
      "needs_background": "light"
     },
     "output_type": "display_data"
    },
    {
     "data": {
      "image/png": "[encoded data removed]",
      "text/plain": [
       "<Figure size 432x288 with 1 Axes>"
      ]
     },
     "metadata": {
      "needs_background": "light"
     },
     "output_type": "display_data"
    }
   ],
   "source": [
    "# Somewhat enhanced gradient descent with epsilon\n",
    "\n",
    "b, k = init_parameters()\n",
    "\n",
    "e = [] # recorded errors\n",
    "\n",
    "eps = 1e-10 # declare convergence if the absolute interval between two neighbor errors is less than eps\n",
    "interval = 100\n",
    "\n",
    "i = 0\n",
    "e.append((i, mse(x, linear(b, k), y)))\n",
    "\n",
    "while True:\n",
    "    if i % interval == 0:\n",
    "        print('Epoch {}: b = {}, k = {}, error = {}'.format(i, b, k, e[-1][1]))\n",
    "    f = linear(b, k)\n",
    "    b_offset, k_offset = 0, 0\n",
    "    for j in range(m):\n",
    "        term = f(x[j]) - y[j]\n",
    "        b_offset += term\n",
    "        k_offset += term * x[j]\n",
    "    b_offset = b_offset * alpha / m\n",
    "    k_offset = k_offset * alpha / m\n",
    "    b -= b_offset\n",
    "    k -= k_offset\n",
    "    e.append((i, mse(x, linear(b, k), y)))\n",
    "    i += 1\n",
    "    if abs(e[-1][1] - e[-2][1]) < eps:\n",
    "        break;\n",
    "\n",
    "print('Epoch {}: b = {}, k = {}, error = {}'.format(i, b, k, e[-1][1]))\n",
    "\n",
    "plot_errors()\n",
    "visualize(linear(b, k))"
   ]
  },
  {
   "cell_type": "code",
   "execution_count": 17,
   "metadata": {},
   "outputs": [],
   "source": [
    "# This section is yet to be improved\n",
    "\n",
    "pass"
   ]
  },
  {
   "cell_type": "markdown",
   "metadata": {},
   "source": [
    "### Normal Equation"
   ]
  },
  {
   "cell_type": "markdown",
   "metadata": {},
   "source": [
    "Normal equation is a method to analytically figure out the best answer to some regression problems, including linear regression.\n",
    "\n",
    "Compared with gradient descent, normal equation can provide the simpe"
   ]
  }
 ],
 "metadata": {
  "kernelspec": {
   "display_name": "Python 3",
   "language": "python",
   "name": "python3"
  },
  "language_info": {
   "codemirror_mode": {
    "name": "ipython",
    "version": 3
   },
   "file_extension": ".py",
   "mimetype": "text/x-python",
   "name": "python",
   "nbconvert_exporter": "python",
   "pygments_lexer": "ipython3",
   "version": "3.7.3"
  }
 },
 "nbformat": 4,
 "nbformat_minor": 4
}
