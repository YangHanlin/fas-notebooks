{
 "cells": [
  {
   "cell_type": "markdown",
   "metadata": {},
   "source": [
    "# Linear Regression with Multiple Variables\n",
    "\n",
    "For original packed homework instrcutions, refer to the file `machine-learning-ex1.zip`."
   ]
  },
  {
   "cell_type": "markdown",
   "metadata": {},
   "source": [
    "## Problem Description\n",
    "\n",
    "You will implement linear regression with multiple variables to predict the prices of houses. Suppose you are selling your house and you want to know what a good market price would be. One way to do this is to first collect information on recent houses sold and make a model of housing prices.\n",
    "\n",
    "The dataset contains 3 columns based on housing prices in Oregon. The first column is the size of the house (in square feet), the second column is the number of bedrooms, and the third column is the price of the house."
   ]
  },
  {
   "cell_type": "markdown",
   "metadata": {},
   "source": [
    "## Preparation"
   ]
  },
  {
   "cell_type": "code",
   "execution_count": 1,
   "metadata": {},
   "outputs": [],
   "source": [
    "# Import the libraries\n",
    "\n",
    "import numpy as np\n",
    "import matplotlib.pyplot as plt"
   ]
  },
  {
   "cell_type": "code",
   "execution_count": 2,
   "metadata": {},
   "outputs": [],
   "source": [
    "# Define the function for reading & parsing data from file\n",
    "\n",
    "def read_data_from(file, seperator=',', typ=float):\n",
    "    \"\"\"Read matrix x and array y respectively from the file object given.\"\"\"\n",
    "    x = []\n",
    "    y = []\n",
    "    xlen = 0\n",
    "    for line in file:\n",
    "        data = line.split(seperator)\n",
    "        if not x:\n",
    "            xlen = len(data)-1\n",
    "            x = [[]]*xlen\n",
    "        for i in range(xlen):\n",
    "            x[i].append(typ(data[i]))\n",
    "        y.append(typ(data[-1]))\n",
    "    return np.array(x), np.array(y)"
   ]
  },
  {
   "cell_type": "code",
   "execution_count": 3,
   "metadata": {},
   "outputs": [],
   "source": [
    "# Define the function to print a particular expression\n",
    "\n",
    "def nprint(str, seperator=' =\\n', *args, **kwargs):\n",
    "    \"\"\"Print str as well as the expression specified by str.\"\"\"\n",
    "    print('{}{}{}'.format(str, seperator, eval(str)))"
   ]
  },
  {
   "cell_type": "markdown",
   "metadata": {},
   "source": [
    "## Solution"
   ]
  },
  {
   "cell_type": "markdown",
   "metadata": {},
   "source": [
    "### Data Loading & Visualization"
   ]
  },
  {
   "cell_type": "code",
   "execution_count": 4,
   "metadata": {},
   "outputs": [],
   "source": [
    "with open('ex1data2.txt') as file:\n",
    "    x, y = read_data_from(file)"
   ]
  },
  {
   "cell_type": "code",
   "execution_count": 6,
   "metadata": {},
   "outputs": [
    {
     "name": "stdout",
     "output_type": "stream",
     "text": [
      "x =\n",
      "[[2.104e+03 3.000e+00 1.600e+03 3.000e+00 2.400e+03 3.000e+00 1.416e+03\n",
      "  2.000e+00 3.000e+03 4.000e+00 1.985e+03 4.000e+00 1.534e+03 3.000e+00\n",
      "  1.427e+03 3.000e+00 1.380e+03 3.000e+00 1.494e+03 3.000e+00 1.940e+03\n",
      "  4.000e+00 2.000e+03 3.000e+00 1.890e+03 3.000e+00 4.478e+03 5.000e+00\n",
      "  1.268e+03 3.000e+00 2.300e+03 4.000e+00 1.320e+03 2.000e+00 1.236e+03\n",
      "  3.000e+00 2.609e+03 4.000e+00 3.031e+03 4.000e+00 1.767e+03 3.000e+00\n",
      "  1.888e+03 2.000e+00 1.604e+03 3.000e+00 1.962e+03 4.000e+00 3.890e+03\n",
      "  3.000e+00 1.100e+03 3.000e+00 1.458e+03 3.000e+00 2.526e+03 3.000e+00\n",
      "  2.200e+03 3.000e+00 2.637e+03 3.000e+00 1.839e+03 2.000e+00 1.000e+03\n",
      "  1.000e+00 2.040e+03 4.000e+00 3.137e+03 3.000e+00 1.811e+03 4.000e+00\n",
      "  1.437e+03 3.000e+00 1.239e+03 3.000e+00 2.132e+03 4.000e+00 4.215e+03\n",
      "  4.000e+00 2.162e+03 4.000e+00 1.664e+03 2.000e+00 2.238e+03 3.000e+00\n",
      "  2.567e+03 4.000e+00 1.200e+03 3.000e+00 8.520e+02 2.000e+00 1.852e+03\n",
      "  4.000e+00 1.203e+03 3.000e+00]\n",
      " [2.104e+03 3.000e+00 1.600e+03 3.000e+00 2.400e+03 3.000e+00 1.416e+03\n",
      "  2.000e+00 3.000e+03 4.000e+00 1.985e+03 4.000e+00 1.534e+03 3.000e+00\n",
      "  1.427e+03 3.000e+00 1.380e+03 3.000e+00 1.494e+03 3.000e+00 1.940e+03\n",
      "  4.000e+00 2.000e+03 3.000e+00 1.890e+03 3.000e+00 4.478e+03 5.000e+00\n",
      "  1.268e+03 3.000e+00 2.300e+03 4.000e+00 1.320e+03 2.000e+00 1.236e+03\n",
      "  3.000e+00 2.609e+03 4.000e+00 3.031e+03 4.000e+00 1.767e+03 3.000e+00\n",
      "  1.888e+03 2.000e+00 1.604e+03 3.000e+00 1.962e+03 4.000e+00 3.890e+03\n",
      "  3.000e+00 1.100e+03 3.000e+00 1.458e+03 3.000e+00 2.526e+03 3.000e+00\n",
      "  2.200e+03 3.000e+00 2.637e+03 3.000e+00 1.839e+03 2.000e+00 1.000e+03\n",
      "  1.000e+00 2.040e+03 4.000e+00 3.137e+03 3.000e+00 1.811e+03 4.000e+00\n",
      "  1.437e+03 3.000e+00 1.239e+03 3.000e+00 2.132e+03 4.000e+00 4.215e+03\n",
      "  4.000e+00 2.162e+03 4.000e+00 1.664e+03 2.000e+00 2.238e+03 3.000e+00\n",
      "  2.567e+03 4.000e+00 1.200e+03 3.000e+00 8.520e+02 2.000e+00 1.852e+03\n",
      "  4.000e+00 1.203e+03 3.000e+00]]\n",
      "y =\n",
      "[399900. 329900. 369000. 232000. 539900. 299900. 314900. 198999. 212000.\n",
      " 242500. 239999. 347000. 329999. 699900. 259900. 449900. 299900. 199900.\n",
      " 499998. 599000. 252900. 255000. 242900. 259900. 573900. 249900. 464500.\n",
      " 469000. 475000. 299900. 349900. 169900. 314900. 579900. 285900. 249900.\n",
      " 229900. 345000. 549000. 287000. 368500. 329900. 314000. 299000. 179900.\n",
      " 299900. 239500.]\n"
     ]
    }
   ],
   "source": [
    "nprint('x'); nprint('y')"
   ]
  },
  {
   "cell_type": "code",
   "execution_count": null,
   "metadata": {},
   "outputs": [],
   "source": []
  }
 ],
 "metadata": {
  "kernelspec": {
   "display_name": "Python 3",
   "language": "python",
   "name": "python3"
  },
  "language_info": {
   "codemirror_mode": {
    "name": "ipython",
    "version": 3
   },
   "file_extension": ".py",
   "mimetype": "text/x-python",
   "name": "python",
   "nbconvert_exporter": "python",
   "pygments_lexer": "ipython3",
   "version": "3.7.3"
  }
 },
 "nbformat": 4,
 "nbformat_minor": 4
}
