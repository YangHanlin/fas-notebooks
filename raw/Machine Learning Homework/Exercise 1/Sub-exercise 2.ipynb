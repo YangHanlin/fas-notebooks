{
 "cells": [
  {
   "cell_type": "markdown",
   "metadata": {},
   "source": [
    "# Linear Regression with Multiple Variables\n",
    "\n",
    "For original packed homework instrcutions, refer to the file `machine-learning-ex1.zip`."
   ]
  },
  {
   "cell_type": "markdown",
   "metadata": {},
   "source": [
    "## Problem Description\n",
    "\n",
    "You will implement linear regression with multiple variables to predict the prices of houses. Suppose you are selling your house and you want to know what a good market price would be. One way to do this is to first collect information on recent houses sold and make a model of housing prices.\n",
    "\n",
    "The dataset contains 3 columns based on housing prices in Oregon. The first column is the size of the house (in square feet), the second column is the number of bedrooms, and the third column is the price of the house."
   ]
  },
  {
   "cell_type": "markdown",
   "metadata": {},
   "source": [
    "## Preparation"
   ]
  },
  {
   "cell_type": "code",
   "execution_count": 26,
   "metadata": {},
   "outputs": [],
   "source": [
    "# Import the libraries\n",
    "\n",
    "import numpy as np\n",
    "import matplotlib.pyplot as plt\n",
    "from mpl_toolkits.mplot3d import Axes3D"
   ]
  },
  {
   "cell_type": "code",
   "execution_count": 27,
   "metadata": {},
   "outputs": [],
   "source": [
    "# Define the function for reading & parsing data from file\n",
    "\n",
    "def read_data_from(file, seperator=',', dtype=float, *args, **kwargs):\n",
    "    \"\"\"\n",
    "    Read x and y respectively from the file object given.\n",
    "    \n",
    "    Parameters:\n",
    "    file:      The file object from which the function reads data.\n",
    "    seperator: The string seperating each field in each line (record).\n",
    "               It is ',' by default, compatible with CSV format.\n",
    "    dtype:     The type of elements supposed to be in the result array.\n",
    "    \n",
    "    Return value:\n",
    "    2 numpy.ndarrays as column vectors representing x and y respectively.\n",
    "    \"\"\"\n",
    "    x = []\n",
    "    y = []\n",
    "    xlen = 0\n",
    "    for line in file:\n",
    "        data = line.split(seperator)\n",
    "        x.append(data[:-1])\n",
    "        y.append(data[-1:])\n",
    "    return np.array(x, *args, dtype=dtype, **kwargs), np.array(y, *args, dtype=dtype, **kwargs)"
   ]
  },
  {
   "cell_type": "code",
   "execution_count": 28,
   "metadata": {},
   "outputs": [],
   "source": [
    "# Define the function to print a particular expression\n",
    "\n",
    "def nprint(str, seperator=' =\\n', *args, **kwargs):\n",
    "    \"\"\"Print str as well as the expression specified by str.\"\"\"\n",
    "    print('{}{}{}'.format(str, seperator, eval(str)))"
   ]
  },
  {
   "cell_type": "markdown",
   "metadata": {},
   "source": [
    "## Solution"
   ]
  },
  {
   "cell_type": "markdown",
   "metadata": {},
   "source": [
    "### Data Loading & Visualization"
   ]
  },
  {
   "cell_type": "code",
   "execution_count": 29,
   "metadata": {},
   "outputs": [],
   "source": [
    "# Load data from the file\n",
    "\n",
    "with open('ex1data2.txt') as file:\n",
    "    x, y = read_data_from(file)"
   ]
  },
  {
   "cell_type": "code",
   "execution_count": 30,
   "metadata": {},
   "outputs": [
    {
     "name": "stdout",
     "output_type": "stream",
     "text": [
      "x =\n",
      "[[2.104e+03 3.000e+00]\n",
      " [1.600e+03 3.000e+00]\n",
      " [2.400e+03 3.000e+00]\n",
      " [1.416e+03 2.000e+00]\n",
      " [3.000e+03 4.000e+00]\n",
      " [1.985e+03 4.000e+00]\n",
      " [1.534e+03 3.000e+00]\n",
      " [1.427e+03 3.000e+00]\n",
      " [1.380e+03 3.000e+00]\n",
      " [1.494e+03 3.000e+00]\n",
      " [1.940e+03 4.000e+00]\n",
      " [2.000e+03 3.000e+00]\n",
      " [1.890e+03 3.000e+00]\n",
      " [4.478e+03 5.000e+00]\n",
      " [1.268e+03 3.000e+00]\n",
      " [2.300e+03 4.000e+00]\n",
      " [1.320e+03 2.000e+00]\n",
      " [1.236e+03 3.000e+00]\n",
      " [2.609e+03 4.000e+00]\n",
      " [3.031e+03 4.000e+00]\n",
      " [1.767e+03 3.000e+00]\n",
      " [1.888e+03 2.000e+00]\n",
      " [1.604e+03 3.000e+00]\n",
      " [1.962e+03 4.000e+00]\n",
      " [3.890e+03 3.000e+00]\n",
      " [1.100e+03 3.000e+00]\n",
      " [1.458e+03 3.000e+00]\n",
      " [2.526e+03 3.000e+00]\n",
      " [2.200e+03 3.000e+00]\n",
      " [2.637e+03 3.000e+00]\n",
      " [1.839e+03 2.000e+00]\n",
      " [1.000e+03 1.000e+00]\n",
      " [2.040e+03 4.000e+00]\n",
      " [3.137e+03 3.000e+00]\n",
      " [1.811e+03 4.000e+00]\n",
      " [1.437e+03 3.000e+00]\n",
      " [1.239e+03 3.000e+00]\n",
      " [2.132e+03 4.000e+00]\n",
      " [4.215e+03 4.000e+00]\n",
      " [2.162e+03 4.000e+00]\n",
      " [1.664e+03 2.000e+00]\n",
      " [2.238e+03 3.000e+00]\n",
      " [2.567e+03 4.000e+00]\n",
      " [1.200e+03 3.000e+00]\n",
      " [8.520e+02 2.000e+00]\n",
      " [1.852e+03 4.000e+00]\n",
      " [1.203e+03 3.000e+00]]\n",
      "y =\n",
      "[[399900.]\n",
      " [329900.]\n",
      " [369000.]\n",
      " [232000.]\n",
      " [539900.]\n",
      " [299900.]\n",
      " [314900.]\n",
      " [198999.]\n",
      " [212000.]\n",
      " [242500.]\n",
      " [239999.]\n",
      " [347000.]\n",
      " [329999.]\n",
      " [699900.]\n",
      " [259900.]\n",
      " [449900.]\n",
      " [299900.]\n",
      " [199900.]\n",
      " [499998.]\n",
      " [599000.]\n",
      " [252900.]\n",
      " [255000.]\n",
      " [242900.]\n",
      " [259900.]\n",
      " [573900.]\n",
      " [249900.]\n",
      " [464500.]\n",
      " [469000.]\n",
      " [475000.]\n",
      " [299900.]\n",
      " [349900.]\n",
      " [169900.]\n",
      " [314900.]\n",
      " [579900.]\n",
      " [285900.]\n",
      " [249900.]\n",
      " [229900.]\n",
      " [345000.]\n",
      " [549000.]\n",
      " [287000.]\n",
      " [368500.]\n",
      " [329900.]\n",
      " [314000.]\n",
      " [299000.]\n",
      " [179900.]\n",
      " [299900.]\n",
      " [239500.]]\n"
     ]
    }
   ],
   "source": [
    "# Display loaded x and y\n",
    "\n",
    "nprint('x')\n",
    "nprint('y')\n",
    "\n",
    "# Visualization - pass"
   ]
  },
  {
   "cell_type": "markdown",
   "metadata": {},
   "source": [
    "### Gradient Descent"
   ]
  },
  {
   "cell_type": "code",
   "execution_count": 33,
   "metadata": {},
   "outputs": [],
   "source": [
    "pass"
   ]
  },
  {
   "cell_type": "markdown",
   "metadata": {},
   "source": [
    "### Normal Equation"
   ]
  },
  {
   "cell_type": "code",
   "execution_count": 34,
   "metadata": {},
   "outputs": [],
   "source": [
    "# Core part of normal equation\n",
    "\n",
    "pass"
   ]
  },
  {
   "cell_type": "code",
   "execution_count": null,
   "metadata": {},
   "outputs": [],
   "source": []
  }
 ],
 "metadata": {
  "kernelspec": {
   "display_name": "Python 3",
   "language": "python",
   "name": "python3"
  },
  "language_info": {
   "codemirror_mode": {
    "name": "ipython",
    "version": 3
   },
   "file_extension": ".py",
   "mimetype": "text/x-python",
   "name": "python",
   "nbconvert_exporter": "python",
   "pygments_lexer": "ipython3",
   "version": "3.7.3"
  }
 },
 "nbformat": 4,
 "nbformat_minor": 4
}
