{
 "cells": [
  {
   "cell_type": "markdown",
   "metadata": {},
   "source": [
    "# Linear Regression with Multiple Variables\n",
    "\n",
    "For original packed homework instrcutions, refer to the file `machine-learning-ex1.zip`."
   ]
  },
  {
   "cell_type": "markdown",
   "metadata": {},
   "source": [
    "## Problem Description\n",
    "\n",
    "You will implement linear regression with multiple variables to predict the prices of houses. Suppose you are selling your house and you want to know what a good market price would be. One way to do this is to first collect information on recent houses sold and make a model of housing prices.\n",
    "\n",
    "The dataset contains 3 columns based on housing prices in Oregon. The first column is the size of the house (in square feet), the second column is the number of bedrooms, and the third column is the price of the house."
   ]
  },
  {
   "cell_type": "markdown",
   "metadata": {},
   "source": [
    "## Preparation"
   ]
  },
  {
   "cell_type": "code",
   "execution_count": 1,
   "metadata": {},
   "outputs": [],
   "source": [
    "# Import the libraries\n",
    "\n",
    "import numpy as np\n",
    "import matplotlib.pyplot as plt\n",
    "from mpl_toolkits.mplot3d import Axes3D"
   ]
  },
  {
   "cell_type": "code",
   "execution_count": 2,
   "metadata": {},
   "outputs": [],
   "source": [
    "# Define the function for reading & parsing data from file\n",
    "\n",
    "def read_data_from(file, seperator=',', dtype=float, *args, **kwargs):\n",
    "    \"\"\"\n",
    "    Read x and y (as column vectors) respectively from the file object given.\n",
    "    \"\"\"\n",
    "    x = []\n",
    "    y = []\n",
    "    xlen = 0\n",
    "    for line in file:\n",
    "        data = line.split(seperator)\n",
    "        x.append(data[:-1])\n",
    "        y.append(data[-1:])\n",
    "    return np.array(x, *args, dtype=dtype, **kwargs), np.array(y, *args, dtype=dtype, **kwargs)"
   ]
  },
  {
   "cell_type": "code",
   "execution_count": 3,
   "metadata": {},
   "outputs": [],
   "source": [
    "# Define the function to print a particular expression\n",
    "\n",
    "def nprint(str, seperator=' =\\n', *args, **kwargs):\n",
    "    \"\"\"Print str as well as the expression specified by str.\"\"\"\n",
    "    print('{}{}{}'.format(str, seperator, eval(str)))"
   ]
  },
  {
   "cell_type": "code",
   "execution_count": 4,
   "metadata": {},
   "outputs": [],
   "source": [
    "# Define the cost function\n",
    "\n",
    "def _mse(predicted, actual):\n",
    "    \"\"\"Calculate the MSE between predicted data and actual data (both column vectors) given.\"\"\"\n",
    "    err = np.array(predicted) - np.array(actual)\n",
    "    return err.transpose().dot(err)[0][0]\n",
    "\n",
    "def mse(x, y, f):\n",
    "    \"\"\"Calculate the MSE between the predicted data (with x and function f) and actual data (both column vectors).\"\"\"\n",
    "    return _mse(np.array([[f(element[0])] for element in x]), np.array(y))\n",
    "\n",
    "cost = mse"
   ]
  },
  {
   "cell_type": "code",
   "execution_count": 5,
   "metadata": {},
   "outputs": [],
   "source": [
    "# Define the model representation\n",
    "\n",
    "def _linear(thetas):\n",
    "    \"\"\"Return a linear function based on the thetas given (as a column vector).\"\"\"\n",
    "    thetas = np.array(thetas)\n",
    "    def f(x):\n",
    "        \"\"\"Linear function with input x (as a column vector, 1 included).\"\"\"\n",
    "        return thetas.transpose().dot(np.array(x))[0]\n",
    "    return f\n",
    "\n",
    "def linear(thetas):\n",
    "    _f = _linear(thetas)\n",
    "    def f(x):\n",
    "        \"\"\"Linear function with input x (as a column vector, 1 not included).\"\"\"\n",
    "        return _f(np.array([[1]] + list(x)))\n",
    "    return f\n",
    "\n",
    "model = linear"
   ]
  },
  {
   "cell_type": "markdown",
   "metadata": {},
   "source": [
    "## Solution"
   ]
  },
  {
   "cell_type": "markdown",
   "metadata": {},
   "source": [
    "### Data Loading & Visualization"
   ]
  },
  {
   "cell_type": "code",
   "execution_count": 6,
   "metadata": {},
   "outputs": [],
   "source": [
    "# Load data from the file\n",
    "\n",
    "with open('ex1data2.txt') as file:\n",
    "    x, y = read_data_from(file)"
   ]
  },
  {
   "cell_type": "code",
   "execution_count": 7,
   "metadata": {},
   "outputs": [
    {
     "name": "stdout",
     "output_type": "stream",
     "text": [
      "x =\n",
      "[[2.104e+03 3.000e+00]\n",
      " [1.600e+03 3.000e+00]\n",
      " [2.400e+03 3.000e+00]\n",
      " [1.416e+03 2.000e+00]\n",
      " [3.000e+03 4.000e+00]\n",
      " [1.985e+03 4.000e+00]\n",
      " [1.534e+03 3.000e+00]\n",
      " [1.427e+03 3.000e+00]\n",
      " [1.380e+03 3.000e+00]\n",
      " [1.494e+03 3.000e+00]\n",
      " [1.940e+03 4.000e+00]\n",
      " [2.000e+03 3.000e+00]\n",
      " [1.890e+03 3.000e+00]\n",
      " [4.478e+03 5.000e+00]\n",
      " [1.268e+03 3.000e+00]\n",
      " [2.300e+03 4.000e+00]\n",
      " [1.320e+03 2.000e+00]\n",
      " [1.236e+03 3.000e+00]\n",
      " [2.609e+03 4.000e+00]\n",
      " [3.031e+03 4.000e+00]\n",
      " [1.767e+03 3.000e+00]\n",
      " [1.888e+03 2.000e+00]\n",
      " [1.604e+03 3.000e+00]\n",
      " [1.962e+03 4.000e+00]\n",
      " [3.890e+03 3.000e+00]\n",
      " [1.100e+03 3.000e+00]\n",
      " [1.458e+03 3.000e+00]\n",
      " [2.526e+03 3.000e+00]\n",
      " [2.200e+03 3.000e+00]\n",
      " [2.637e+03 3.000e+00]\n",
      " [1.839e+03 2.000e+00]\n",
      " [1.000e+03 1.000e+00]\n",
      " [2.040e+03 4.000e+00]\n",
      " [3.137e+03 3.000e+00]\n",
      " [1.811e+03 4.000e+00]\n",
      " [1.437e+03 3.000e+00]\n",
      " [1.239e+03 3.000e+00]\n",
      " [2.132e+03 4.000e+00]\n",
      " [4.215e+03 4.000e+00]\n",
      " [2.162e+03 4.000e+00]\n",
      " [1.664e+03 2.000e+00]\n",
      " [2.238e+03 3.000e+00]\n",
      " [2.567e+03 4.000e+00]\n",
      " [1.200e+03 3.000e+00]\n",
      " [8.520e+02 2.000e+00]\n",
      " [1.852e+03 4.000e+00]\n",
      " [1.203e+03 3.000e+00]]\n",
      "y =\n",
      "[[399900.]\n",
      " [329900.]\n",
      " [369000.]\n",
      " [232000.]\n",
      " [539900.]\n",
      " [299900.]\n",
      " [314900.]\n",
      " [198999.]\n",
      " [212000.]\n",
      " [242500.]\n",
      " [239999.]\n",
      " [347000.]\n",
      " [329999.]\n",
      " [699900.]\n",
      " [259900.]\n",
      " [449900.]\n",
      " [299900.]\n",
      " [199900.]\n",
      " [499998.]\n",
      " [599000.]\n",
      " [252900.]\n",
      " [255000.]\n",
      " [242900.]\n",
      " [259900.]\n",
      " [573900.]\n",
      " [249900.]\n",
      " [464500.]\n",
      " [469000.]\n",
      " [475000.]\n",
      " [299900.]\n",
      " [349900.]\n",
      " [169900.]\n",
      " [314900.]\n",
      " [579900.]\n",
      " [285900.]\n",
      " [249900.]\n",
      " [229900.]\n",
      " [345000.]\n",
      " [549000.]\n",
      " [287000.]\n",
      " [368500.]\n",
      " [329900.]\n",
      " [314000.]\n",
      " [299000.]\n",
      " [179900.]\n",
      " [299900.]\n",
      " [239500.]]\n"
     ]
    }
   ],
   "source": [
    "# Display loaded x and y\n",
    "\n",
    "nprint('x')\n",
    "nprint('y')\n",
    "\n",
    "# Visualization - pass"
   ]
  },
  {
   "cell_type": "markdown",
   "metadata": {},
   "source": [
    "### Gradient Descent"
   ]
  },
  {
   "cell_type": "code",
   "execution_count": 8,
   "metadata": {},
   "outputs": [],
   "source": [
    "# Epsilon + Vectorization\n",
    "\n",
    "# f = model((1, 2, 3))\n",
    "# x = (1, 2)\n",
    "# print('f({}) = {}'.format(x, f(x)))"
   ]
  },
  {
   "cell_type": "code",
   "execution_count": 9,
   "metadata": {},
   "outputs": [
    {
     "ename": "TypeError",
     "evalue": "'numpy.ndarray' object is not callable",
     "output_type": "error",
     "traceback": [
      "\u001b[1;31m---------------------------------------------------------------------------\u001b[0m",
      "\u001b[1;31mTypeError\u001b[0m                                 Traceback (most recent call last)",
      "\u001b[1;32m<ipython-input-9-9ac296c73fff>\u001b[0m in \u001b[0;36m<module>\u001b[1;34m\u001b[0m\n\u001b[0;32m     20\u001b[0m \u001b[1;33m\u001b[0m\u001b[0m\n\u001b[0;32m     21\u001b[0m \u001b[0mi\u001b[0m \u001b[1;33m=\u001b[0m \u001b[1;36m0\u001b[0m\u001b[1;33m\u001b[0m\u001b[1;33m\u001b[0m\u001b[0m\n\u001b[1;32m---> 22\u001b[1;33m \u001b[0me\u001b[0m\u001b[1;33m.\u001b[0m\u001b[0mappend\u001b[0m\u001b[1;33m(\u001b[0m\u001b[1;33m(\u001b[0m\u001b[0mi\u001b[0m\u001b[1;33m,\u001b[0m \u001b[0mmse\u001b[0m\u001b[1;33m(\u001b[0m\u001b[0mx\u001b[0m\u001b[1;33m,\u001b[0m \u001b[0mlinear\u001b[0m\u001b[1;33m(\u001b[0m\u001b[0mb\u001b[0m\u001b[1;33m,\u001b[0m \u001b[0mk1\u001b[0m\u001b[1;33m,\u001b[0m \u001b[0mk2\u001b[0m\u001b[1;33m)\u001b[0m\u001b[1;33m,\u001b[0m \u001b[0my\u001b[0m\u001b[1;33m)\u001b[0m\u001b[1;33m)\u001b[0m\u001b[1;33m)\u001b[0m\u001b[1;33m\u001b[0m\u001b[1;33m\u001b[0m\u001b[0m\n\u001b[0m\u001b[0;32m     23\u001b[0m \u001b[1;33m\u001b[0m\u001b[0m\n\u001b[0;32m     24\u001b[0m \u001b[1;32mwhile\u001b[0m \u001b[1;32mTrue\u001b[0m\u001b[1;33m:\u001b[0m\u001b[1;33m\u001b[0m\u001b[1;33m\u001b[0m\u001b[0m\n",
      "\u001b[1;32m<ipython-input-4-1f6a80e8c634>\u001b[0m in \u001b[0;36mmse\u001b[1;34m(x, y, f)\u001b[0m\n\u001b[0;32m      8\u001b[0m \u001b[1;32mdef\u001b[0m \u001b[0mmse\u001b[0m\u001b[1;33m(\u001b[0m\u001b[0mx\u001b[0m\u001b[1;33m,\u001b[0m \u001b[0my\u001b[0m\u001b[1;33m,\u001b[0m \u001b[0mf\u001b[0m\u001b[1;33m)\u001b[0m\u001b[1;33m:\u001b[0m\u001b[1;33m\u001b[0m\u001b[1;33m\u001b[0m\u001b[0m\n\u001b[0;32m      9\u001b[0m     \u001b[1;34m\"\"\"Calculate the MSE between the predicted data (with x and function f) and actual data (both column vectors).\"\"\"\u001b[0m\u001b[1;33m\u001b[0m\u001b[1;33m\u001b[0m\u001b[0m\n\u001b[1;32m---> 10\u001b[1;33m     \u001b[1;32mreturn\u001b[0m \u001b[0m_mse\u001b[0m\u001b[1;33m(\u001b[0m\u001b[0mnp\u001b[0m\u001b[1;33m.\u001b[0m\u001b[0marray\u001b[0m\u001b[1;33m(\u001b[0m\u001b[1;33m[\u001b[0m\u001b[1;33m[\u001b[0m\u001b[0mf\u001b[0m\u001b[1;33m(\u001b[0m\u001b[0melement\u001b[0m\u001b[1;33m[\u001b[0m\u001b[1;36m0\u001b[0m\u001b[1;33m]\u001b[0m\u001b[1;33m)\u001b[0m\u001b[1;33m]\u001b[0m \u001b[1;32mfor\u001b[0m \u001b[0melement\u001b[0m \u001b[1;32min\u001b[0m \u001b[0mx\u001b[0m\u001b[1;33m]\u001b[0m\u001b[1;33m)\u001b[0m\u001b[1;33m,\u001b[0m \u001b[0mnp\u001b[0m\u001b[1;33m.\u001b[0m\u001b[0marray\u001b[0m\u001b[1;33m(\u001b[0m\u001b[0my\u001b[0m\u001b[1;33m)\u001b[0m\u001b[1;33m)\u001b[0m\u001b[1;33m\u001b[0m\u001b[1;33m\u001b[0m\u001b[0m\n\u001b[0m\u001b[0;32m     11\u001b[0m \u001b[1;33m\u001b[0m\u001b[0m\n\u001b[0;32m     12\u001b[0m \u001b[0mcost\u001b[0m \u001b[1;33m=\u001b[0m \u001b[0mmse\u001b[0m\u001b[1;33m\u001b[0m\u001b[1;33m\u001b[0m\u001b[0m\n",
      "\u001b[1;32m<ipython-input-4-1f6a80e8c634>\u001b[0m in \u001b[0;36m<listcomp>\u001b[1;34m(.0)\u001b[0m\n\u001b[0;32m      8\u001b[0m \u001b[1;32mdef\u001b[0m \u001b[0mmse\u001b[0m\u001b[1;33m(\u001b[0m\u001b[0mx\u001b[0m\u001b[1;33m,\u001b[0m \u001b[0my\u001b[0m\u001b[1;33m,\u001b[0m \u001b[0mf\u001b[0m\u001b[1;33m)\u001b[0m\u001b[1;33m:\u001b[0m\u001b[1;33m\u001b[0m\u001b[1;33m\u001b[0m\u001b[0m\n\u001b[0;32m      9\u001b[0m     \u001b[1;34m\"\"\"Calculate the MSE between the predicted data (with x and function f) and actual data (both column vectors).\"\"\"\u001b[0m\u001b[1;33m\u001b[0m\u001b[1;33m\u001b[0m\u001b[0m\n\u001b[1;32m---> 10\u001b[1;33m     \u001b[1;32mreturn\u001b[0m \u001b[0m_mse\u001b[0m\u001b[1;33m(\u001b[0m\u001b[0mnp\u001b[0m\u001b[1;33m.\u001b[0m\u001b[0marray\u001b[0m\u001b[1;33m(\u001b[0m\u001b[1;33m[\u001b[0m\u001b[1;33m[\u001b[0m\u001b[0mf\u001b[0m\u001b[1;33m(\u001b[0m\u001b[0melement\u001b[0m\u001b[1;33m[\u001b[0m\u001b[1;36m0\u001b[0m\u001b[1;33m]\u001b[0m\u001b[1;33m)\u001b[0m\u001b[1;33m]\u001b[0m \u001b[1;32mfor\u001b[0m \u001b[0melement\u001b[0m \u001b[1;32min\u001b[0m \u001b[0mx\u001b[0m\u001b[1;33m]\u001b[0m\u001b[1;33m)\u001b[0m\u001b[1;33m,\u001b[0m \u001b[0mnp\u001b[0m\u001b[1;33m.\u001b[0m\u001b[0marray\u001b[0m\u001b[1;33m(\u001b[0m\u001b[0my\u001b[0m\u001b[1;33m)\u001b[0m\u001b[1;33m)\u001b[0m\u001b[1;33m\u001b[0m\u001b[1;33m\u001b[0m\u001b[0m\n\u001b[0m\u001b[0;32m     11\u001b[0m \u001b[1;33m\u001b[0m\u001b[0m\n\u001b[0;32m     12\u001b[0m \u001b[0mcost\u001b[0m \u001b[1;33m=\u001b[0m \u001b[0mmse\u001b[0m\u001b[1;33m\u001b[0m\u001b[1;33m\u001b[0m\u001b[0m\n",
      "\u001b[1;31mTypeError\u001b[0m: 'numpy.ndarray' object is not callable"
     ]
    }
   ],
   "source": [
    "# Somewhat enhanced gradient descent with epsilon\n",
    "\n",
    "def init_parameters():\n",
    "    return 0, 0, 0\n",
    "\n",
    "def linear(b, k1, k2):\n",
    "    \"\"\"Generate a function with given parameters b, k1 and k2.\"\"\"\n",
    "    def f(x):\n",
    "        return b * x[0][0] + k1 * x[1][0] + k2 * x[2][0]\n",
    "    return f\n",
    "\n",
    "alpha = 0.001\n",
    "\n",
    "b, k1, k2 = init_parameters()\n",
    "\n",
    "e = [] # recorded errors\n",
    "\n",
    "eps = 1e-10 # declare convergence if the absolute interval between two neighbor errors is less than eps\n",
    "interval = 1\n",
    "\n",
    "i = 0\n",
    "e.append((i, mse(x, linear(b, k1, k2), y)))\n",
    "\n",
    "while True:\n",
    "    if i % interval == 0:\n",
    "        print('Epoch {}: b = {}, k1 = {}, k2 = {}, error = {}'.format(i, b, k1, k2, e[-1][1]))\n",
    "    f = linear(b, k1, k2)\n",
    "    b_offset, k1_offset, k2_offset = 0, 0\n",
    "    for j in range(m):\n",
    "        term = f(x[j]) - y[j]\n",
    "        b_offset += term\n",
    "        k1_offset += term * x[j][0]\n",
    "        k2_offset += term * x[j][1]\n",
    "    b_offset = b_offset * alpha / m\n",
    "    k1_offset = k1_offset * alpha / m\n",
    "    k2_offset = k2_offset * alpha / m\n",
    "    b -= b_offset\n",
    "    k1 -= k1_offset\n",
    "    k2 -= k2_offset\n",
    "    e.append((i, mse(x, linear(b, k1, k2), y)))\n",
    "    i += 1\n",
    "    if abs(e[-1][1] - e[-2][1]) < eps:\n",
    "        break\n",
    "\n",
    "print('Epoch {}: b = {}, k1 = {}, k2 = {}, error = {}'.format(i, b, k1, k2, e[-1][1]))\n",
    "\n",
    "plot_errors()\n",
    "# visualize(linear(b, k))"
   ]
  },
  {
   "cell_type": "markdown",
   "metadata": {},
   "source": [
    "### Normal Equation"
   ]
  },
  {
   "cell_type": "code",
   "execution_count": null,
   "metadata": {},
   "outputs": [],
   "source": [
    "# Core part of normal equation\n",
    "\n",
    "pass"
   ]
  },
  {
   "cell_type": "code",
   "execution_count": null,
   "metadata": {},
   "outputs": [],
   "source": [
    "np.repeat?"
   ]
  }
 ],
 "metadata": {
  "kernelspec": {
   "display_name": "Python 3",
   "language": "python",
   "name": "python3"
  },
  "language_info": {
   "codemirror_mode": {
    "name": "ipython",
    "version": 3
   },
   "file_extension": ".py",
   "mimetype": "text/x-python",
   "name": "python",
   "nbconvert_exporter": "python",
   "pygments_lexer": "ipython3",
   "version": "3.7.4"
  }
 },
 "nbformat": 4,
 "nbformat_minor": 4
}
