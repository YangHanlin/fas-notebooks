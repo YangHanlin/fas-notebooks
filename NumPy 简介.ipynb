{
 "cells": [
  {
   "cell_type": "markdown",
   "metadata": {},
   "source": [
    "# NumPy 简介"
   ]
  },
  {
   "cell_type": "markdown",
   "metadata": {},
   "source": [
    "[**NumPy**](https://www.numpy.org/) 是 Python 中的一个科学计算库，是其他许多库（如 PyTorch、TensorFlow 等）的基础。\n",
    "\n",
    "NumPy 的核心部分即为其提供的一个 n 维数组类 `numpy.ndarray` 以及围绕此类的一系列操作。这些操作不仅可以减少代码量，也可以同时提升代码运行的速度（因为 NumPy 在底层使用 C 实现了许多高效的算法，可以提高运算效率）。\n",
    "\n",
    "`numpy.ndarray` 可以看作是 Python 中列表（list）的扩展。\n",
    "\n",
    "NumPy 官方也提供了[速成教程](https://numpy.org/devdocs/user/quickstart.html)。\n",
    "\n",
    "另可参考 [Brief Introduction to NumPy - YangHanlin/ml-eval Wiki](https://github.com/YangHanlin/ml-eval/wiki/Brief-Introduction-to-NumPy)（私有仓库，可能无法访问）\n",
    "\n",
    "> **PS：**在机器学习中，一般这种 n 维数组被称为**张量（tensor）**。例如一维张量即为向量、二维张量为矩阵等。"
   ]
  },
  {
   "cell_type": "markdown",
   "metadata": {},
   "source": [
    "一般导入 NumPy 库时使用以下语句:"
   ]
  },
  {
   "cell_type": "code",
   "execution_count": 1,
   "metadata": {},
   "outputs": [],
   "source": [
    "import numpy as np"
   ]
  },
  {
   "cell_type": "markdown",
   "metadata": {},
   "source": [
    "## 创建数组"
   ]
  },
  {
   "cell_type": "markdown",
   "metadata": {},
   "source": [
    "创建 `numpy.ndarray` 时一般不会使用其构造函数；一般使用 NumPy 提供的一些其他的函数（所谓的“工厂方法”？）创建 `numpy.ndarray` 实例。"
   ]
  },
  {
   "cell_type": "code",
   "execution_count": 2,
   "metadata": {},
   "outputs": [
    {
     "name": "stdout",
     "output_type": "stream",
     "text": [
      "x =\n",
      "[1 2 3 4 5]\n"
     ]
    }
   ],
   "source": [
    "# 最常见：numpy.array(<array-like>)，将给定的序列转换为 numpy.ndarray\n",
    "\n",
    "x = np.array([1, 2, 3, 4, 5])\n",
    "\n",
    "print('x =\\n{}'.format(x))"
   ]
  },
  {
   "cell_type": "code",
   "execution_count": 3,
   "metadata": {},
   "outputs": [
    {
     "name": "stdout",
     "output_type": "stream",
     "text": [
      "y =\n",
      "[0 2 4 6 8]\n",
      "\n",
      "z =\n",
      "[0.  0.1 0.2 0.3 0.4 0.5 0.6 0.7 0.8 0.9 1. ]\n"
     ]
    }
   ],
   "source": [
    "# 给定步长/个数：numpy.arange 与 numpy.linspace\n",
    "\n",
    "y = np.arange(0, 10, 2)   # np.arange(start, end, step)     语法与 Python 提供的 range 类似\n",
    "z = np.linspace(0, 1, 11) # np.linspace(start, end, number) 数据类型为浮点数\n",
    "\n",
    "print('y =\\n{}'.format(y))\n",
    "print()\n",
    "print('z =\\n{}'.format(z))"
   ]
  },
  {
   "cell_type": "code",
   "execution_count": 4,
   "metadata": {},
   "outputs": [
    {
     "name": "stdout",
     "output_type": "stream",
     "text": [
      "a =\n",
      "[[1. 0. 0. 0. 0.]\n",
      " [0. 1. 0. 0. 0.]\n",
      " [0. 0. 1. 0. 0.]\n",
      " [0. 0. 0. 1. 0.]\n",
      " [0. 0. 0. 0. 1.]]\n",
      "\n",
      "b =\n",
      "[[1 0 0 0 0]\n",
      " [0 2 0 0 0]\n",
      " [0 0 3 0 0]\n",
      " [0 0 0 4 0]\n",
      " [0 0 0 0 5]]\n",
      "\n",
      "c =\n",
      "[[0. 0. 0. 0. 0.]\n",
      " [0. 0. 0. 0. 0.]\n",
      " [0. 0. 0. 0. 0.]]\n",
      "\n",
      "d =\n",
      "[[0. 0. 0. 0. 0.]\n",
      " [0. 0. 0. 0. 0.]\n",
      " [0. 0. 0. 0. 0.]]\n",
      "\n",
      "e =\n",
      "[[1. 1. 1. 1. 1.]\n",
      " [1. 1. 1. 1. 1.]\n",
      " [1. 1. 1. 1. 1.]]\n"
     ]
    }
   ],
   "source": [
    "# 创建特殊的数组\n",
    "\n",
    "a = np.eye(5)        # 5 阶单位矩阵（eye = I，而 I 代表 Identity Matrix），等价于 np.diag(np.ones(5))\n",
    "b = np.diag(x)       # 对角线上为数组 x 的对角矩阵\n",
    "\n",
    "c = np.empty((3, 5)) # 3x5 的空矩阵（可能包含垃圾值）\n",
    "d = np.zeros((3, 5)) # 3x5 的全零矩阵\n",
    "e = np.ones((3, 5))  # 3x5 的全一矩阵\n",
    "\n",
    "print('a =\\n{}'.format(a))\n",
    "print()\n",
    "print('b =\\n{}'.format(b))\n",
    "print()\n",
    "print('c =\\n{}'.format(c))\n",
    "print()\n",
    "print('d =\\n{}'.format(d))\n",
    "print()\n",
    "print('e =\\n{}'.format(e))"
   ]
  },
  {
   "cell_type": "markdown",
   "metadata": {},
   "source": [
    "## 对数组进行操作"
   ]
  },
  {
   "cell_type": "markdown",
   "metadata": {},
   "source": [
    "### 访问数组元素"
   ]
  },
  {
   "cell_type": "markdown",
   "metadata": {},
   "source": [
    "由于 `numpy.ndarray` 是 Python 中列表的扩展，因此支持列表的一些操作，如使用下标访问，分段（所谓的“Slicing”）等。"
   ]
  },
  {
   "cell_type": "code",
   "execution_count": 5,
   "metadata": {},
   "outputs": [
    {
     "name": "stdout",
     "output_type": "stream",
     "text": [
      "arr =\n",
      "[[ 0  1  2  3  4  5]\n",
      " [ 6  7  8  9 10 11]\n",
      " [12 13 14 15 16 17]\n",
      " [18 19 20 21 22 23]]\n",
      "\n",
      "All elements in arr:\n",
      "0, 1, 2, 3, 4, 5, 6, 7, 8, 9, 10, 11, 12, 13, 14, 15, 16, 17, 18, 19, 20, 21, 22, 23\n",
      "\n",
      "arr[0][0] = 0 = 0\n",
      "arr[0][1] = 1 = 1\n",
      "arr[0][2] = 2 = 2\n",
      "arr[0][3] = 3 = 3\n",
      "arr[0][4] = 4 = 4\n",
      "arr[0][5] = 5 = 5\n",
      "arr[1][0] = 6 = 6\n",
      "arr[1][1] = 7 = 7\n",
      "arr[1][2] = 8 = 8\n",
      "arr[1][3] = 9 = 9\n",
      "arr[1][4] = 10 = 10\n",
      "arr[1][5] = 11 = 11\n",
      "arr[2][0] = 12 = 12\n",
      "arr[2][1] = 13 = 13\n",
      "arr[2][2] = 14 = 14\n",
      "arr[2][3] = 15 = 15\n",
      "arr[2][4] = 16 = 16\n",
      "arr[2][5] = 17 = 17\n",
      "arr[3][0] = 18 = 18\n",
      "arr[3][1] = 19 = 19\n",
      "arr[3][2] = 20 = 20\n",
      "arr[3][3] = 21 = 21\n",
      "arr[3][4] = 22 = 22\n",
      "arr[3][5] = 23 = 23\n",
      "\n",
      "arr[:] =\n",
      "[[ 0  1  2  3  4  5]\n",
      " [ 6  7  8  9 10 11]\n",
      " [12 13 14 15 16 17]\n",
      " [18 19 20 21 22 23]]\n",
      "arr[:, :] =\n",
      "[[ 0  1  2  3  4  5]\n",
      " [ 6  7  8  9 10 11]\n",
      " [12 13 14 15 16 17]\n",
      " [18 19 20 21 22 23]]\n",
      "arr[:][:] =\n",
      "[[ 0  1  2  3  4  5]\n",
      " [ 6  7  8  9 10 11]\n",
      " [12 13 14 15 16 17]\n",
      " [18 19 20 21 22 23]]\n",
      "arr[::-1, ::-1] =\n",
      "[[23 22 21 20 19 18]\n",
      " [17 16 15 14 13 12]\n",
      " [11 10  9  8  7  6]\n",
      " [ 5  4  3  2  1  0]]\n",
      "arr[1:3, 2:4] =\n",
      "[[ 8  9]\n",
      " [14 15]]\n"
     ]
    }
   ],
   "source": [
    "arr = np.arange(24).reshape(4, 6)\n",
    "\n",
    "print('arr =\\n{}'.format(arr))\n",
    "\n",
    "print()\n",
    "\n",
    "# numpy.ndarray 可以迭代\n",
    "cpy = []\n",
    "for row in arr:\n",
    "    for element in row:\n",
    "        cpy.append(str(element))\n",
    "print('All elements in arr:\\n{}'.format(', '.join(cpy)))\n",
    "\n",
    "print()\n",
    "\n",
    "# numpy.ndarray 可以使用下标访问\n",
    "for i in range(len(arr)):\n",
    "    for j in range(len(arr[i])):\n",
    "        print('arr[{}][{}] = {} = {}'.format(i, j, arr[i][j], arr[i, j])) # 注意第二种访问方式：使用元组（tuple）作为下标\n",
    "\n",
    "print()\n",
    "\n",
    "# numpy.ndarray 支持“分段”操作\n",
    "sliced_arrs = [\n",
    "    'arr[:]',\n",
    "    'arr[:, :]',\n",
    "    'arr[:][:]',\n",
    "    'arr[::-1, ::-1]',\n",
    "    # 'arr[::-1][::-1]', # 会出现非预期的结果，因此使用 arr[x, y] 优于 arr[x][y]\n",
    "    'arr[1:3, 2:4]',\n",
    "    # 'arr[1:3][2:4]' # 出现非预期结果\n",
    "]\n",
    "for expr in sliced_arrs:\n",
    "    print('{} =\\n{}'.format(expr, eval(expr)))"
   ]
  },
  {
   "cell_type": "markdown",
   "metadata": {},
   "source": [
    "除了与 Python 列表类似的元素访问方法之外，`numpy.ndarray` 也提供了另外两种方法（统称为 `Fancy Indexing`）：**使用下标数组访问元素**与**使用 `bool` 数组访问元素**。"
   ]
  },
  {
   "cell_type": "code",
   "execution_count": 11,
   "metadata": {},
   "outputs": [
    {
     "name": "stdout",
     "output_type": "stream",
     "text": [
      "brr[indices] =\n",
      "[  0   1   4   9  16  25  36  49  64  81 100]\n",
      "\n",
      "brr[masks] =\n",
      "[ 2  3  5  7 11 13 17 19 23 29 31 37 41 43 47 53 59 61 67 71 73 79 83 89\n",
      " 97]\n"
     ]
    }
   ],
   "source": [
    "upper_boundary = 101\n",
    "brr = np.arange(101)\n",
    "\n",
    "# 使用下标数组访问元素\n",
    "i = 0\n",
    "indices = []\n",
    "while i**2 < upper_boundary:\n",
    "    indices.append(i**2)\n",
    "    i += 1\n",
    "print('brr[indices] =\\n{}'.format(brr[indices])) # brr[np.array(indices)] 应更佳\n",
    "\n",
    "print()\n",
    "\n",
    "# 使用 bool 数组访问元素\n",
    "masks = np.repeat(True, upper_boundary)\n",
    "masks[0] = masks[1] = False\n",
    "i = 2\n",
    "while i < upper_boundary:\n",
    "    if not masks[i]:\n",
    "        i += 1\n",
    "        continue\n",
    "    times = 2\n",
    "    while i*times < upper_boundary:\n",
    "        masks[i*times] = False\n",
    "        times += 1\n",
    "    i += 1\n",
    "print('brr[masks] =\\n{}'.format(brr[masks]))"
   ]
  },
  {
   "cell_type": "code",
   "execution_count": null,
   "metadata": {},
   "outputs": [],
   "source": []
  }
 ],
 "metadata": {
  "kernelspec": {
   "display_name": "Python 3",
   "language": "python",
   "name": "python3"
  },
  "language_info": {
   "codemirror_mode": {
    "name": "ipython",
    "version": 3
   },
   "file_extension": ".py",
   "mimetype": "text/x-python",
   "name": "python",
   "nbconvert_exporter": "python",
   "pygments_lexer": "ipython3",
   "version": "3.7.3"
  }
 },
 "nbformat": 4,
 "nbformat_minor": 4
}
