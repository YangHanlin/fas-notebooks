{
 "cells": [
  {
   "cell_type": "markdown",
   "metadata": {},
   "source": [
    "# NumPy 简介"
   ]
  },
  {
   "cell_type": "markdown",
   "metadata": {},
   "source": [
    "[**NumPy**](https://www.numpy.org/) 是 Python 中的一个科学计算库，是其他许多库（如 PyTorch、TensorFlow 等）的基础。\n",
    "\n",
    "NumPy 的核心部分即为其提供的一个 n 维数组类 `numpy.ndarray` 以及围绕此类的一系列操作。这些操作不仅可以减少代码量，也可以同时提升代码运行的速度（因为 NumPy 在底层使用 C 实现了许多高效的算法，可以提高运算效率）。\n",
    "\n",
    "`numpy.ndarray` 可以看作是 Python 中列表（list）的扩展。\n",
    "\n",
    "NumPy 官方也提供了[速成教程](https://numpy.org/devdocs/user/quickstart.html)。\n",
    "\n",
    "> **PS：**在机器学习中，一般这种 n 维数组被称为**张量（tensor）**。例如一维张量即为向量、二维张量为矩阵等。"
   ]
  },
  {
   "cell_type": "markdown",
   "metadata": {},
   "source": [
    "一般导入 NumPy 库时使用以下语句:"
   ]
  },
  {
   "cell_type": "code",
   "execution_count": 1,
   "metadata": {},
   "outputs": [],
   "source": [
    "import numpy as np"
   ]
  },
  {
   "cell_type": "markdown",
   "metadata": {},
   "source": [
    "## 创建数组"
   ]
  },
  {
   "cell_type": "markdown",
   "metadata": {},
   "source": [
    "创建 `numpy.ndarray` 时一般不会使用其构造函数；一般使用 NumPy 提供的一些其他的函数（所谓的“工厂方法”？）创建 `numpy.ndarray` 实例。"
   ]
  },
  {
   "cell_type": "code",
   "execution_count": 14,
   "metadata": {},
   "outputs": [
    {
     "name": "stdout",
     "output_type": "stream",
     "text": [
      "x =\n",
      "[1 2 3 4 5]\n"
     ]
    }
   ],
   "source": [
    "# 最常见：numpy.array(<array-like>)，将给定的序列转换为 numpy.ndarray\n",
    "\n",
    "x = np.array([1, 2, 3, 4, 5])\n",
    "\n",
    "print('x =\\n{}'.format(x))"
   ]
  },
  {
   "cell_type": "code",
   "execution_count": 20,
   "metadata": {},
   "outputs": [
    {
     "name": "stdout",
     "output_type": "stream",
     "text": [
      "y =\n",
      "[0 2 4 6 8]\n",
      "\n",
      "z =\n",
      "[0.  0.1 0.2 0.3 0.4 0.5 0.6 0.7 0.8 0.9 1. ]\n"
     ]
    }
   ],
   "source": [
    "# 给定步长/个数：numpy.arange 与 numpy.linspace\n",
    "\n",
    "y = np.arange(0, 10, 2)   # np.arange(start, end, step)     语法与 Python 提供的 range 类似\n",
    "z = np.linspace(0, 1, 11) # np.linspace(start, end, number) 数据类型为浮点数\n",
    "\n",
    "print('y =\\n{}'.format(y))\n",
    "print()\n",
    "print('z =\\n{}'.format(z))"
   ]
  },
  {
   "cell_type": "code",
   "execution_count": 29,
   "metadata": {},
   "outputs": [
    {
     "name": "stdout",
     "output_type": "stream",
     "text": [
      "a =\n",
      "[[1. 0. 0. 0. 0.]\n",
      " [0. 1. 0. 0. 0.]\n",
      " [0. 0. 1. 0. 0.]\n",
      " [0. 0. 0. 1. 0.]\n",
      " [0. 0. 0. 0. 1.]]\n",
      "\n",
      "b =\n",
      "[[1 0 0 0 0]\n",
      " [0 2 0 0 0]\n",
      " [0 0 3 0 0]\n",
      " [0 0 0 4 0]\n",
      " [0 0 0 0 5]]\n",
      "\n",
      "c =\n",
      "[[0. 0. 0. 0. 0.]\n",
      " [0. 0. 0. 0. 0.]\n",
      " [0. 0. 0. 0. 0.]]\n",
      "\n",
      "d =\n",
      "[[0. 0. 0. 0. 0.]\n",
      " [0. 0. 0. 0. 0.]\n",
      " [0. 0. 0. 0. 0.]]\n",
      "\n",
      "e =\n",
      "[[1. 1. 1. 1. 1.]\n",
      " [1. 1. 1. 1. 1.]\n",
      " [1. 1. 1. 1. 1.]]\n"
     ]
    }
   ],
   "source": [
    "# 创建特殊的数组\n",
    "\n",
    "a = np.eye(5)      # 5 阶单位矩阵（eye = I，而 I 代表 Identity Matrix），等价于 np.diag(np.ones(5))\n",
    "b = np.diag(x)     # 对角线上为数组 x 的对角矩阵\n",
    "\n",
    "c = np.empty((3, 5)) # 3x5 的空矩阵（可能包含垃圾值）\n",
    "d = np.zeros((3, 5)) # 3x5 的全零矩阵\n",
    "e = np.ones((3, 5))  # 3x5 的全一矩阵\n",
    "\n",
    "print('a =\\n{}'.format(a))\n",
    "print()\n",
    "print('b =\\n{}'.format(b))\n",
    "print()\n",
    "print('c =\\n{}'.format(c))\n",
    "print()\n",
    "print('d =\\n{}'.format(d))\n",
    "print()\n",
    "print('e =\\n{}'.format(e))"
   ]
  },
  {
   "cell_type": "code",
   "execution_count": null,
   "metadata": {},
   "outputs": [],
   "source": []
  }
 ],
 "metadata": {
  "kernelspec": {
   "display_name": "Python 3",
   "language": "python",
   "name": "python3"
  },
  "language_info": {
   "codemirror_mode": {
    "name": "ipython",
    "version": 3
   },
   "file_extension": ".py",
   "mimetype": "text/x-python",
   "name": "python",
   "nbconvert_exporter": "python",
   "pygments_lexer": "ipython3",
   "version": "3.7.3"
  }
 },
 "nbformat": 4,
 "nbformat_minor": 4
}
