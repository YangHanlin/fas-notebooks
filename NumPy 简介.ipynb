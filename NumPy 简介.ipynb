{
 "cells": [
  {
   "cell_type": "code",
   "execution_count": 1,
   "metadata": {},
   "outputs": [],
   "source": [
    "# 定义用于打印 `numpy.ndarray` 的函数；跳过不看即可\n",
    "\n",
    "def nprint(str, *args, **kwargs):\n",
    "    \"\"\"Print the array (expression) specified by 'str'.\"\"\"\n",
    "    return print((str+' =\\n{}').format(eval(str)), *args, **kwargs)"
   ]
  },
  {
   "cell_type": "markdown",
   "metadata": {},
   "source": [
    "# NumPy 简介"
   ]
  },
  {
   "cell_type": "markdown",
   "metadata": {},
   "source": [
    "[**NumPy**](https://www.numpy.org/) 是 Python 中的一个科学计算库，是其他许多库（如 PyTorch、TensorFlow 等）的基础。\n",
    "\n",
    "NumPy 的核心部分即为其提供的一个 n 维数组类 `numpy.ndarray` 以及围绕此类的一系列操作。这些操作不仅可以减少代码量，也可以同时提升代码运行的速度（因为 NumPy 在底层使用 C 实现了许多高效的算法，可以提高运算效率）。\n",
    "\n",
    "`numpy.ndarray` 可以看作是 Python 中列表（list）的扩展。\n",
    "\n",
    "NumPy 官方也提供了[速成教程](https://numpy.org/devdocs/user/quickstart.html)。\n",
    "\n",
    "本文主要基于 [Brief Introduction to NumPy - YangHanlin/ml-eval Wiki](https://github.com/YangHanlin/ml-eval/wiki/Brief-Introduction-to-NumPy)（私有仓库，可能无法访问）\n",
    "\n",
    "> **PS：**在机器学习中，一般这种 n 维数组被称为**张量（tensor）**。例如一维张量即为向量、二维张量为矩阵等。"
   ]
  },
  {
   "cell_type": "markdown",
   "metadata": {},
   "source": [
    "一般导入 NumPy 库时使用以下语句:"
   ]
  },
  {
   "cell_type": "code",
   "execution_count": 2,
   "metadata": {},
   "outputs": [],
   "source": [
    "import numpy as np"
   ]
  },
  {
   "cell_type": "markdown",
   "metadata": {},
   "source": [
    "## 创建数组"
   ]
  },
  {
   "cell_type": "markdown",
   "metadata": {},
   "source": [
    "创建 `numpy.ndarray` 时一般不会使用其构造函数；一般使用 NumPy 提供的一些其他的函数（所谓的“工厂方法”？）创建 `numpy.ndarray` 实例。"
   ]
  },
  {
   "cell_type": "code",
   "execution_count": 3,
   "metadata": {},
   "outputs": [
    {
     "name": "stdout",
     "output_type": "stream",
     "text": [
      "x =\n",
      "[1 2 3 4 5]\n"
     ]
    }
   ],
   "source": [
    "# 最常见：numpy.array(<array-like>)，将给定的序列转换为 numpy.ndarray\n",
    "\n",
    "x = np.array([1, 2, 3, 4, 5])\n",
    "\n",
    "nprint('x')"
   ]
  },
  {
   "cell_type": "code",
   "execution_count": 4,
   "metadata": {},
   "outputs": [
    {
     "name": "stdout",
     "output_type": "stream",
     "text": [
      "y =\n",
      "[0 2 4 6 8]\n",
      "\n",
      "z =\n",
      "[0.  0.1 0.2 0.3 0.4 0.5 0.6 0.7 0.8 0.9 1. ]\n"
     ]
    }
   ],
   "source": [
    "# 给定步长/个数：numpy.arange 与 numpy.linspace\n",
    "\n",
    "y = np.arange(0, 10, 2)   # np.arange(start, end, step)     语法与 Python 提供的 range 类似\n",
    "z = np.linspace(0, 1, 11) # np.linspace(start, end, number) 数据类型为浮点数\n",
    "\n",
    "nprint('y')\n",
    "print()\n",
    "nprint('z')"
   ]
  },
  {
   "cell_type": "code",
   "execution_count": 5,
   "metadata": {},
   "outputs": [
    {
     "name": "stdout",
     "output_type": "stream",
     "text": [
      "a =\n",
      "[[1. 0. 0. 0. 0.]\n",
      " [0. 1. 0. 0. 0.]\n",
      " [0. 0. 1. 0. 0.]\n",
      " [0. 0. 0. 1. 0.]\n",
      " [0. 0. 0. 0. 1.]]\n",
      "\n",
      "b =\n",
      "[[1 0 0 0 0]\n",
      " [0 2 0 0 0]\n",
      " [0 0 3 0 0]\n",
      " [0 0 0 4 0]\n",
      " [0 0 0 0 5]]\n",
      "\n",
      "c =\n",
      "[[0. 0. 0. 0. 0.]\n",
      " [0. 0. 0. 0. 0.]\n",
      " [0. 0. 0. 0. 0.]]\n",
      "\n",
      "d =\n",
      "[[0. 0. 0. 0. 0.]\n",
      " [0. 0. 0. 0. 0.]\n",
      " [0. 0. 0. 0. 0.]]\n",
      "\n",
      "e =\n",
      "[[1. 1. 1. 1. 1.]\n",
      " [1. 1. 1. 1. 1.]\n",
      " [1. 1. 1. 1. 1.]]\n"
     ]
    }
   ],
   "source": [
    "# 创建特殊的数组\n",
    "\n",
    "a = np.eye(5)        # 5 阶单位矩阵（eye = I，而 I 代表 Identity Matrix），等价于 np.diag(np.ones(5))\n",
    "b = np.diag(x)       # 对角线上为数组 x 的对角矩阵\n",
    "\n",
    "c = np.empty((3, 5)) # 3x5 的空矩阵（可能包含垃圾值）\n",
    "d = np.zeros((3, 5)) # 3x5 的全零矩阵\n",
    "e = np.ones((3, 5))  # 3x5 的全一矩阵\n",
    "\n",
    "nprint('a')\n",
    "print()\n",
    "nprint('b')\n",
    "print()\n",
    "nprint('c')\n",
    "print()\n",
    "nprint('d')\n",
    "print()\n",
    "nprint('e')"
   ]
  },
  {
   "cell_type": "markdown",
   "metadata": {},
   "source": [
    "## 对数组进行操作"
   ]
  },
  {
   "cell_type": "markdown",
   "metadata": {},
   "source": [
    "### 访问数组元素"
   ]
  },
  {
   "cell_type": "markdown",
   "metadata": {},
   "source": [
    "由于 `numpy.ndarray` 是 Python 中列表的扩展，因此支持列表的一些操作，如使用下标访问，分段（所谓的“Slicing”）等。"
   ]
  },
  {
   "cell_type": "code",
   "execution_count": 6,
   "metadata": {},
   "outputs": [
    {
     "name": "stdout",
     "output_type": "stream",
     "text": [
      "arr =\n",
      "[[ 0  1  2  3  4  5]\n",
      " [ 6  7  8  9 10 11]\n",
      " [12 13 14 15 16 17]\n",
      " [18 19 20 21 22 23]]\n",
      "\n",
      "All elements in arr:\n",
      "0, 1, 2, 3, 4, 5, 6, 7, 8, 9, 10, 11, 12, 13, 14, 15, 16, 17, 18, 19, 20, 21, 22, 23\n",
      "\n",
      "arr[0][0] = 0 = 0\n",
      "arr[0][1] = 1 = 1\n",
      "arr[0][2] = 2 = 2\n",
      "arr[0][3] = 3 = 3\n",
      "arr[0][4] = 4 = 4\n",
      "arr[0][5] = 5 = 5\n",
      "arr[1][0] = 6 = 6\n",
      "arr[1][1] = 7 = 7\n",
      "arr[1][2] = 8 = 8\n",
      "arr[1][3] = 9 = 9\n",
      "arr[1][4] = 10 = 10\n",
      "arr[1][5] = 11 = 11\n",
      "arr[2][0] = 12 = 12\n",
      "arr[2][1] = 13 = 13\n",
      "arr[2][2] = 14 = 14\n",
      "arr[2][3] = 15 = 15\n",
      "arr[2][4] = 16 = 16\n",
      "arr[2][5] = 17 = 17\n",
      "arr[3][0] = 18 = 18\n",
      "arr[3][1] = 19 = 19\n",
      "arr[3][2] = 20 = 20\n",
      "arr[3][3] = 21 = 21\n",
      "arr[3][4] = 22 = 22\n",
      "arr[3][5] = 23 = 23\n",
      "\n",
      "arr[:] =\n",
      "[[ 0  1  2  3  4  5]\n",
      " [ 6  7  8  9 10 11]\n",
      " [12 13 14 15 16 17]\n",
      " [18 19 20 21 22 23]]\n",
      "arr[:, :] =\n",
      "[[ 0  1  2  3  4  5]\n",
      " [ 6  7  8  9 10 11]\n",
      " [12 13 14 15 16 17]\n",
      " [18 19 20 21 22 23]]\n",
      "arr[:][:] =\n",
      "[[ 0  1  2  3  4  5]\n",
      " [ 6  7  8  9 10 11]\n",
      " [12 13 14 15 16 17]\n",
      " [18 19 20 21 22 23]]\n",
      "arr[::-1, ::-1] =\n",
      "[[23 22 21 20 19 18]\n",
      " [17 16 15 14 13 12]\n",
      " [11 10  9  8  7  6]\n",
      " [ 5  4  3  2  1  0]]\n",
      "arr[1:3, 2:4] =\n",
      "[[ 8  9]\n",
      " [14 15]]\n"
     ]
    }
   ],
   "source": [
    "arr = np.arange(24).reshape(4, 6)\n",
    "\n",
    "nprint('arr')\n",
    "\n",
    "print()\n",
    "\n",
    "# numpy.ndarray 可以迭代\n",
    "cpy = []\n",
    "for row in arr:\n",
    "    for element in row:\n",
    "        cpy.append(str(element))\n",
    "print('All elements in arr:\\n{}'.format(', '.join(cpy)))\n",
    "\n",
    "print()\n",
    "\n",
    "# numpy.ndarray 可以使用下标访问\n",
    "for i in range(len(arr)):\n",
    "    for j in range(len(arr[i])):\n",
    "        print('arr[{}][{}] = {} = {}'.format(i, j, arr[i][j], arr[i, j])) # 注意第二种访问方式：使用元组（tuple）作为下标\n",
    "\n",
    "print()\n",
    "\n",
    "# numpy.ndarray 支持“分段”操作\n",
    "sliced_arrs = [\n",
    "    'arr[:]',\n",
    "    'arr[:, :]',\n",
    "    'arr[:][:]',\n",
    "    'arr[::-1, ::-1]',\n",
    "    # 'arr[::-1][::-1]', # 会出现非预期的结果，因此使用 arr[x, y] 优于 arr[x][y]\n",
    "    'arr[1:3, 2:4]',\n",
    "    # 'arr[1:3][2:4]' # 出现非预期结果\n",
    "]\n",
    "for expr in sliced_arrs:\n",
    "    nprint(expr)"
   ]
  },
  {
   "cell_type": "markdown",
   "metadata": {},
   "source": [
    "除了与 Python 列表类似的元素访问方法之外，`numpy.ndarray` 也提供了另外两种方法（统称为 `Fancy Indexing`）：**使用下标数组访问元素**与**使用 `bool` 数组访问元素**。"
   ]
  },
  {
   "cell_type": "code",
   "execution_count": 7,
   "metadata": {},
   "outputs": [
    {
     "name": "stdout",
     "output_type": "stream",
     "text": [
      "brr[indices] =\n",
      "[  0   1   4   9  16  25  36  49  64  81 100]\n",
      "\n",
      "brr[masks] =\n",
      "[ 2  3  5  7 11 13 17 19 23 29 31 37 41 43 47 53 59 61 67 71 73 79 83 89\n",
      " 97]\n"
     ]
    }
   ],
   "source": [
    "upper_boundary = 101\n",
    "brr = np.arange(upper_boundary)\n",
    "\n",
    "# 使用下标数组访问元素\n",
    "i = 0\n",
    "indices = []\n",
    "while i**2 < upper_boundary:\n",
    "    indices.append(i**2)\n",
    "    i += 1\n",
    "# brr[indices] 为 [0, upper_boundary) 范围内的完全平方数\n",
    "nprint('brr[indices]') # brr[np.array(indices)] 应更佳\n",
    "\n",
    "print()\n",
    "\n",
    "# 使用 bool 数组访问元素\n",
    "masks = np.repeat(True, upper_boundary)\n",
    "masks[0] = masks[1] = False\n",
    "i = 2\n",
    "while i < upper_boundary:\n",
    "    if not masks[i]:\n",
    "        i += 1\n",
    "        continue\n",
    "    times = 2\n",
    "    while i*times < upper_boundary:\n",
    "        masks[i*times] = False\n",
    "        times += 1\n",
    "    i += 1\n",
    "# brr[masks] 为 [0, upper_boundary) 范围内的质数\n",
    "nprint('brr[masks]')"
   ]
  },
  {
   "cell_type": "markdown",
   "metadata": {},
   "source": [
    "### 操作数组"
   ]
  },
  {
   "cell_type": "markdown",
   "metadata": {},
   "source": [
    "`numpy.ndarray` 为每种算术运算符都提供了简便操作：默认情况下，可以直接将算术运算符施于 `numpy.ndarray`，其将自动转化为**针对每个元素（elementwise）的运算**。"
   ]
  },
  {
   "cell_type": "code",
   "execution_count": 8,
   "metadata": {},
   "outputs": [
    {
     "name": "stdout",
     "output_type": "stream",
     "text": [
      "crr =\n",
      "[[ 0  2  4  6  8]\n",
      " [10 12 14 16 18]\n",
      " [20 22 24 26 28]\n",
      " [30 32 34 36 38]\n",
      " [40 42 44 46 48]]\n",
      "drr =\n",
      "[[ 1  3  5  7  9]\n",
      " [11 13 15 17 19]\n",
      " [21 23 25 27 29]\n",
      " [31 33 35 37 39]\n",
      " [41 43 45 47 49]]\n",
      "\n",
      "crr+drr =\n",
      "[[ 1  5  9 13 17]\n",
      " [21 25 29 33 37]\n",
      " [41 45 49 53 57]\n",
      " [61 65 69 73 77]\n",
      " [81 85 89 93 97]]\n",
      "crr-drr =\n",
      "[[-1 -1 -1 -1 -1]\n",
      " [-1 -1 -1 -1 -1]\n",
      " [-1 -1 -1 -1 -1]\n",
      " [-1 -1 -1 -1 -1]\n",
      " [-1 -1 -1 -1 -1]]\n",
      "crr*drr =\n",
      "[[   0    6   20   42   72]\n",
      " [ 110  156  210  272  342]\n",
      " [ 420  506  600  702  812]\n",
      " [ 930 1056 1190 1332 1482]\n",
      " [1640 1806 1980 2162 2352]]\n",
      "crr/drr =\n",
      "[[0.         0.66666667 0.8        0.85714286 0.88888889]\n",
      " [0.90909091 0.92307692 0.93333333 0.94117647 0.94736842]\n",
      " [0.95238095 0.95652174 0.96       0.96296296 0.96551724]\n",
      " [0.96774194 0.96969697 0.97142857 0.97297297 0.97435897]\n",
      " [0.97560976 0.97674419 0.97777778 0.9787234  0.97959184]]\n",
      "crr**2 =\n",
      "[[   0    4   16   36   64]\n",
      " [ 100  144  196  256  324]\n",
      " [ 400  484  576  676  784]\n",
      " [ 900 1024 1156 1296 1444]\n",
      " [1600 1764 1936 2116 2304]]\n",
      "crr<25 =\n",
      "[[ True  True  True  True  True]\n",
      " [ True  True  True  True  True]\n",
      " [ True  True  True False False]\n",
      " [False False False False False]\n",
      " [False False False False False]]\n",
      "crr@drr =\n",
      "[[ 620  660  700  740  780]\n",
      " [1670 1810 1950 2090 2230]\n",
      " [2720 2960 3200 3440 3680]\n",
      " [3770 4110 4450 4790 5130]\n",
      " [4820 5260 5700 6140 6580]]\n",
      "crr.dot(drr) =\n",
      "[[ 620  660  700  740  780]\n",
      " [1670 1810 1950 2090 2230]\n",
      " [2720 2960 3200 3440 3680]\n",
      " [3770 4110 4450 4790 5130]\n",
      " [4820 5260 5700 6140 6580]]\n"
     ]
    }
   ],
   "source": [
    "crr = np.arange(0, 50, 2).reshape(5, 5)\n",
    "drr = np.arange(1, 51, 2).reshape(5, 5)\n",
    "\n",
    "nprint('crr')\n",
    "nprint('drr')\n",
    "\n",
    "print()\n",
    "\n",
    "nprint('crr+drr')\n",
    "nprint('crr-drr')\n",
    "nprint('crr*drr') # 注意：这样写是针对每个元素的乘法运算；矩阵乘积见下\n",
    "nprint('crr/drr')\n",
    "nprint('crr**2')\n",
    "nprint('crr<25')\n",
    "\n",
    "nprint('crr@drr') # 需要 Python >= 3.5，相当于 crr.dot(drr)\n",
    "nprint('crr.dot(drr)') # 矩阵乘积的正确写法"
   ]
  },
  {
   "cell_type": "markdown",
   "metadata": {},
   "source": [
    "`numpy.ndarray` 也以函数形式提供了一些简便操作。"
   ]
  },
  {
   "cell_type": "code",
   "execution_count": 9,
   "metadata": {},
   "outputs": [
    {
     "name": "stdout",
     "output_type": "stream",
     "text": [
      "crr.max() = 48\n",
      "crr.min() = 0\n",
      "crr.sum() = 600\n",
      "\n",
      "np.sin(crr) =\n",
      "[[ 0.          0.90929743 -0.7568025  -0.2794155   0.98935825]\n",
      " [-0.54402111 -0.53657292  0.99060736 -0.28790332 -0.75098725]\n",
      " [ 0.91294525 -0.00885131 -0.90557836  0.76255845  0.27090579]\n",
      " [-0.98803162  0.55142668  0.52908269 -0.99177885  0.29636858]\n",
      " [ 0.74511316 -0.91652155  0.01770193  0.90178835 -0.76825466]]\n",
      "np.cos(crr) =\n",
      "[[ 1.         -0.41614684 -0.65364362  0.96017029 -0.14550003]\n",
      " [-0.83907153  0.84385396  0.13673722 -0.95765948  0.66031671]\n",
      " [ 0.40808206 -0.99996083  0.42417901  0.64691932 -0.96260587]\n",
      " [ 0.15425145  0.83422336 -0.84857027 -0.12796369  0.95507364]\n",
      " [-0.66693806 -0.39998531  0.99984331 -0.43217794 -0.64014434]]\n",
      "np.tan(crr) =\n",
      "[[ 0.         -2.18503986  1.15782128 -0.29100619 -6.79971146]\n",
      " [ 0.64836083 -0.63585993  7.24460662  0.30063224 -1.13731371]\n",
      " [ 2.23716094  0.00885166 -2.1348967   1.17875355 -0.2814296 ]\n",
      " [-6.4053312   0.66100604 -0.62349896  7.75047091  0.31030966]\n",
      " [-1.11721493  2.29138799  0.0177047  -2.08661353  1.20012724]]\n",
      "np.sqrt(crr) =\n",
      "[[0.         1.41421356 2.         2.44948974 2.82842712]\n",
      " [3.16227766 3.46410162 3.74165739 4.         4.24264069]\n",
      " [4.47213595 4.69041576 4.89897949 5.09901951 5.29150262]\n",
      " [5.47722558 5.65685425 5.83095189 6.         6.164414  ]\n",
      " [6.32455532 6.4807407  6.63324958 6.78232998 6.92820323]]\n"
     ]
    }
   ],
   "source": [
    "print('crr.max() = {}'.format(crr.max()))\n",
    "print('crr.min() = {}'.format(crr.min()))\n",
    "print('crr.sum() = {}'.format(crr.sum()))\n",
    "\n",
    "print()\n",
    "\n",
    "nprint('np.sin(crr)')\n",
    "nprint('np.cos(crr)')\n",
    "nprint('np.tan(crr)')\n",
    "nprint('np.sqrt(crr)')"
   ]
  },
  {
   "cell_type": "markdown",
   "metadata": {},
   "source": [
    "由于机器学习最终应不需要直接操作 `numpy.ndarray`，因此应不需要非常透彻。但 PyTorch 的 `Tensor` 类与 `numpy.ndarray` 联系比较密切，因此需要有一定了解。\n",
    "\n",
    "进一步了解 NumPy，可以参阅其[文档](https://numpy.org/devdocs/index.html)或[官方教程](https://numpy.org/devdocs/user/quickstart.html)。"
   ]
  },
  {
   "cell_type": "code",
   "execution_count": null,
   "metadata": {},
   "outputs": [],
   "source": []
  }
 ],
 "metadata": {
  "kernelspec": {
   "display_name": "Python 3",
   "language": "python",
   "name": "python3"
  },
  "language_info": {
   "codemirror_mode": {
    "name": "ipython",
    "version": 3
   },
   "file_extension": ".py",
   "mimetype": "text/x-python",
   "name": "python",
   "nbconvert_exporter": "python",
   "pygments_lexer": "ipython3",
   "version": "3.7.3"
  }
 },
 "nbformat": 4,
 "nbformat_minor": 4
}
