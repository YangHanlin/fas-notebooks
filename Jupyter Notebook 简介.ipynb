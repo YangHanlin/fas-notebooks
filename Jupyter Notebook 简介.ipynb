{
 "cells": [
  {
   "cell_type": "markdown",
   "metadata": {},
   "source": [
    "# Jupyter Notebook 简介"
   ]
  },
  {
   "cell_type": "markdown",
   "metadata": {},
   "source": [
    "如其名所示，Jupyter Notebook 就是一种“笔记本”。但与普通的笔记本不同的是，Jupyter Notebook 除了可以存放文字与图片等，还可以存放**可以运行的代码**。\n",
    "\n",
    "Jupyter Notebook 中可以运行的代码块有 Python、R、C/C++ 等，但最初与使用最广泛的是 Python。这个仓库中的笔记本都是 Python 笔记本。"
   ]
  },
  {
   "cell_type": "markdown",
   "metadata": {},
   "source": [
    "## 使用说明"
   ]
  },
  {
   "cell_type": "markdown",
   "metadata": {},
   "source": [
    "Jupyter Notebook 中以**块（cell）**的单位组织笔记（与 Notion 或 OneNote 比较像）。其中每一块都大致有两种类型：**文本块**或**代码块**。\n",
    "\n",
    "- **文本块（或称 Markdown 块）：**存放文本的块，采用 Markdown 语法（可能被称为“标记块”——翻译的锅）。\n",
    "- **代码块：**存放可运行代码的块；由于本仓库中的笔记本都是 Python 笔记本，因此即为 Python 代码。\n",
    "\n",
    "可以从上面的菜单栏或工具栏中选择“运行”以运行笔记本中的块（对于文本块就是渲染 Markdown），也有常用快捷键 `Shift` + `Enter`，意为**运行当前块并跳到下个块**。"
   ]
  },
  {
   "cell_type": "markdown",
   "metadata": {},
   "source": [
    "> **试一试：**按下 `Shift` + `Enter`，渲染本文本块。"
   ]
  },
  {
   "cell_type": "code",
   "execution_count": 2,
   "metadata": {},
   "outputs": [
    {
     "name": "stdout",
     "output_type": "stream",
     "text": [
      "Hello Jupyter Notebook!\n"
     ]
    }
   ],
   "source": [
    "# 按下 Shift + Enter 运行本代码块\n",
    "\n",
    "print('Hello Jupyter Notebook!')"
   ]
  },
  {
   "cell_type": "markdown",
   "metadata": {},
   "source": [
    "**注意：**无特殊情况下，**同一个笔记本内的代码都相当于属于同一个 Python 文件（模块）**，彼此可以相互访问，互有影响。"
   ]
  },
  {
   "cell_type": "code",
   "execution_count": 3,
   "metadata": {},
   "outputs": [],
   "source": [
    "x = [i for i in range(100)]"
   ]
  },
  {
   "cell_type": "code",
   "execution_count": 4,
   "metadata": {},
   "outputs": [
    {
     "name": "stdout",
     "output_type": "stream",
     "text": [
      "Sum = 4950\n"
     ]
    }
   ],
   "source": [
    "# 本块与上块不属于同一个代码块，却可以访问到 x\n",
    "\n",
    "sm = 0\n",
    "for i in x:\n",
    "    sm += i\n",
    "print('Sum = {}'.format(sm))"
   ]
  },
  {
   "cell_type": "markdown",
   "metadata": {},
   "source": [
    "### Python 笔记本中代码块的特殊用法"
   ]
  },
  {
   "cell_type": "markdown",
   "metadata": {},
   "source": [
    "一般的 Python 笔记本都采用 [IPython](http://ipython.org/) 作为内核，因此笔记本中的 Python 代码块也因此有 IPython 的一些特性，包括：\n",
    "\n",
    "- 使用 Tab 键代码补全\n",
    "- 用 `!` 执行外部命令\n",
    "- 用 `?` 访问帮助信息"
   ]
  },
  {
   "cell_type": "code",
   "execution_count": 7,
   "metadata": {},
   "outputs": [],
   "source": [
    "# 演示代码补全\n",
    "\n",
    "x1 = 1\n",
    "x2 = 2\n",
    "x3 = 3\n",
    "\n",
    "y = x # 光标放在 x 后面按下 Tab 键"
   ]
  },
  {
   "cell_type": "code",
   "execution_count": 11,
   "metadata": {},
   "outputs": [
    {
     "name": "stdout",
     "output_type": "stream",
     "text": [
      "pip 19.2.2 from C:\\Users\\matto\\Miniconda3\\lib\\site-packages\\pip (python 3.7)\n",
      "\n"
     ]
    }
   ],
   "source": [
    "# 演示执行外部命令（可能由于权限不够无法执行）\n",
    "\n",
    "# 以 ! 开头以执行外部命令（即 Windows 中的 cmd 或 Linux/macOS 中的 bash）\n",
    "!pip --version"
   ]
  },
  {
   "cell_type": "code",
   "execution_count": 15,
   "metadata": {},
   "outputs": [
    {
     "data": {
      "text/plain": [
       "\u001b[1;31mDocstring:\u001b[0m\n",
       "S.format(*args, **kwargs) -> str\n",
       "\n",
       "Return a formatted version of S, using substitutions from args and kwargs.\n",
       "The substitutions are identified by braces ('{' and '}').\n",
       "\u001b[1;31mType:\u001b[0m      method_descriptor\n"
      ]
     },
     "metadata": {},
     "output_type": "display_data"
    }
   ],
   "source": [
    "# 演示访问帮助信息\n",
    "\n",
    "# 在名称后加上 ? 以访问帮助信息\n",
    "str.format?"
   ]
  },
  {
   "cell_type": "markdown",
   "metadata": {},
   "source": [
    "## 测试"
   ]
  },
  {
   "cell_type": "code",
   "execution_count": 6,
   "metadata": {},
   "outputs": [
    {
     "data": {
      "text/plain": [
       "[<matplotlib.lines.Line2D at 0x1d5616b8240>]"
      ]
     },
     "execution_count": 6,
     "metadata": {},
     "output_type": "execute_result"
    },
    {
     "data": {
      "image/png": "[encoded data removed]",
      "text/plain": [
       "<Figure size 432x288 with 1 Axes>"
      ]
     },
     "metadata": {
      "needs_background": "light"
     },
     "output_type": "display_data"
    }
   ],
   "source": [
    "import numpy as np\n",
    "import matplotlib.pyplot as plt\n",
    "\n",
    "x = np.linspace(0, 5, 100)\n",
    "\n",
    "plt.plot(x, x)"
   ]
  },
  {
   "cell_type": "code",
   "execution_count": null,
   "metadata": {},
   "outputs": [],
   "source": []
  }
 ],
 "metadata": {
  "kernelspec": {
   "display_name": "Python 3",
   "language": "python",
   "name": "python3"
  },
  "language_info": {
   "codemirror_mode": {
    "name": "ipython",
    "version": 3
   },
   "file_extension": ".py",
   "mimetype": "text/x-python",
   "name": "python",
   "nbconvert_exporter": "python",
   "pygments_lexer": "ipython3",
   "version": "3.7.3"
  }
 },
 "nbformat": 4,
 "nbformat_minor": 4
}
